{
  "cells": [
    {
      "cell_type": "markdown",
      "metadata": {
        "id": "view-in-github",
        "colab_type": "text"
      },
      "source": [
        "<a href=\"https://colab.research.google.com/github/sadeelmu/tngstage/blob/main/TNG_Task_1_BVEP.ipynb\" target=\"_parent\"><img src=\"https://colab.research.google.com/assets/colab-badge.svg\" alt=\"Open In Colab\"/></a>"
      ]
    },
    {
      "cell_type": "markdown",
      "metadata": {
        "id": "_HIlF63N6coG"
      },
      "source": [
        "# Simulated base inference of SEEG signals using 2D VEP model"
      ]
    },
    {
      "cell_type": "code",
      "execution_count": null,
      "metadata": {
        "collapsed": true,
        "id": "wduNV08_6coG"
      },
      "outputs": [],
      "source": [
        "import os\n",
        "import sys\n",
        "import time\n",
        "import errno\n",
        "import time\n",
        "import timeit\n",
        "\n",
        "\n",
        "import numpy as np\n",
        "import scipy as scp\n",
        "\n",
        "\n",
        "import numba\n",
        "from numba import jit\n",
        "\n",
        "import matplotlib.pyplot as plt\n",
        "from matplotlib import colors, cm"
      ]
    },
    {
      "cell_type": "markdown",
      "source": [
        "To make SBI work one must first install sbi and make sure everything is compatiable"
      ],
      "metadata": {
        "id": "HXOkJyC4B53C"
      }
    },
    {
      "cell_type": "code",
      "source": [
        "!git clone https://github.com/ins-amu/BVEP.git"
      ],
      "metadata": {
        "id": "F8sAXAepqYgS"
      },
      "execution_count": null,
      "outputs": []
    },
    {
      "cell_type": "code",
      "source": [
        "!pip install sbi==0.24.0 torch==2.5.1 torchvision==0.20.1 torchaudio==2.5.1 --quiet"
      ],
      "metadata": {
        "id": "TupUiIkJqhBk"
      },
      "execution_count": null,
      "outputs": []
    },
    {
      "cell_type": "code",
      "source": [
        "import torch\n",
        "import sbi\n",
        "print(sbi.__version__)"
      ],
      "metadata": {
        "id": "5LV5b-a2FFZn"
      },
      "execution_count": null,
      "outputs": []
    },
    {
      "cell_type": "code",
      "execution_count": null,
      "metadata": {
        "collapsed": true,
        "id": "KUPmkmiW6coG"
      },
      "outputs": [],
      "source": [
        "#note: the sbi.inference does not exist anymore\n",
        "#and sbi.utils.get_nn_models and sbi.utils.stimulations does not exist either\n",
        "\n",
        "# posterior_nn was deprecated and removed. rather we use default NN from SNPE.\n",
        "\n",
        "# sbi workflow:\n",
        "# 1. Define simulator\n",
        "# 2. Wrap simulater\n",
        "# 3. Generate simulations\n",
        "# 4. Use SNPE inference method\n",
        "# 5. Train, then sample posterior\n",
        "# 6. Plot\n",
        "\n",
        "import torch\n",
        "from sbi.inference import SNPE #See paper on (Training deep neural density estimators to identify mechanistic models of neural dynamics)\n",
        "from sbi.simulators import linear_gaussian\n",
        "from sbi.utils import BoxUniform\n",
        "import sbi.utils as utils\n",
        "from sbi.analysis import pairplot\n",
        "\n",
        "# Define prior (2-dimensional uniform)\n",
        "#prior = BoxUniform(low=torch.tensor([-2., -2.]), high=torch.tensor([2., 2.]))\n",
        "\n",
        "# Parameters for linear_gaussian simulator\n",
        "#likelihood_shift = torch.zeros(2)\n",
        "#likelihood_cov = torch.eye(2)\n",
        "\n",
        "# Define simulator as a lambda wrapping linear_gaussian with fixed params\n",
        "#def simulator(theta):\n",
        "#    return theta + torch.randn(1) * 0.1\n",
        "\n",
        "# Simulate data\n",
        "#num_simulations = 1000\n",
        "#theta = prior.sample((num_simulations,))\n",
        "# = torch.stack([simulator(t) for t in theta])\n",
        "\n",
        "# Run inference\n",
        "#inference = SNPE(prior=prior)  # Defaults to masked autoregressive flow (maf)\n",
        "#density_estimator = inference.append_simulations(theta, x).train()\n",
        "#posterior = inference.build_posterior(density_estimator)\n",
        "\n",
        "# Sample from the posterior\n",
        "#x_o = x[0]  # observation\n",
        "#posterior_samples = posterior.sample((1000,), x=x_o)\n",
        "\n",
        "# Plot results\n",
        "#pairplot(posterior_samples, labels=[\"theta1\", \"theta2\"])"
      ]
    },
    {
      "cell_type": "code",
      "execution_count": null,
      "metadata": {
        "collapsed": true,
        "id": "LU2gDp7e6coH"
      },
      "outputs": [],
      "source": [
        "from typing import Any, Callable, Dict, List, Optional, Tuple, Union, cast"
      ]
    },
    {
      "cell_type": "markdown",
      "source": [
        "To get the BVEP_SME"
      ],
      "metadata": {
        "id": "TKLbttlcGIqK"
      }
    },
    {
      "cell_type": "code",
      "source": [
        "import sys\n",
        "sys.path.append('/content/BVEP/SBI')"
      ],
      "metadata": {
        "id": "dbnhhiafkKIA"
      },
      "execution_count": null,
      "outputs": []
    },
    {
      "cell_type": "code",
      "source": [
        "from BVEP_SME import SME_labels, SEM_violinplot, plot_confusion_matrix, plot_zscore_shrinkage, plot_roc_curve, true_node_binary, estimated_node_binary, SME_accuracy"
      ],
      "metadata": {
        "id": "pJoQ1frYGSuy"
      },
      "execution_count": null,
      "outputs": []
    },
    {
      "cell_type": "code",
      "execution_count": null,
      "metadata": {
        "collapsed": true,
        "id": "rEMqcAa06coH"
      },
      "outputs": [],
      "source": [
        "from sklearn.metrics import confusion_matrix"
      ]
    },
    {
      "cell_type": "code",
      "execution_count": null,
      "metadata": {
        "collapsed": true,
        "id": "SZcT5N9V6coH"
      },
      "outputs": [],
      "source": [
        "from report_metrics import LSE, Err, RMSE, LSE_obs, z_score, shrinkage"
      ]
    },
    {
      "cell_type": "code",
      "execution_count": null,
      "metadata": {
        "collapsed": true,
        "id": "aisK-w_D6coH"
      },
      "outputs": [],
      "source": [
        "import warnings\n",
        "warnings.simplefilter(\"ignore\")"
      ]
    },
    {
      "cell_type": "code",
      "execution_count": null,
      "metadata": {
        "id": "lsLW-zCu6coH"
      },
      "outputs": [],
      "source": [
        "%pylab inline\n",
        "#%matplotlib notebook"
      ]
    },
    {
      "cell_type": "code",
      "execution_count": null,
      "metadata": {
        "id": "arNk0Ry96coH"
      },
      "outputs": [],
      "source": [
        "print('Running on numpy: v{}'.format(np.version.version))\n",
        "print('Running on torch: v{}'.format(torch.__version__))\n",
        "print('Running on sbi: v{}'.format(sbi.__version__))"
      ]
    },
    {
      "cell_type": "code",
      "execution_count": null,
      "metadata": {
        "collapsed": true,
        "id": "DdNDKgpc6coH"
      },
      "outputs": [],
      "source": [
        "Res_dir='Res_BVEP_ode_sbi_maf_sourcelevel_onset_patient1_savesim_v18_samplerejection'"
      ]
    },
    {
      "cell_type": "markdown",
      "metadata": {
        "id": "z7Gs1rCX6coH"
      },
      "source": [
        "### Constants"
      ]
    },
    {
      "cell_type": "code",
      "execution_count": null,
      "metadata": {
        "collapsed": true,
        "id": "tNonXzlD6coH"
      },
      "outputs": [],
      "source": [
        "I1=3.1\n",
        "eta_c=-2.05\n",
        "delta_eta=1.0\n",
        "prior_std =1.0\n",
        "sd_thr=0.8"
      ]
    },
    {
      "cell_type": "markdown",
      "metadata": {
        "id": "jc-QHlgJ6coH"
      },
      "source": [
        "# Patient CJ"
      ]
    },
    {
      "cell_type": "code",
      "execution_count": null,
      "metadata": {
        "id": "83nLSsir6coH"
      },
      "outputs": [],
      "source": [
        "# Set cwd to the directory containing the data\n",
        "cwd = '/content/BVEP/SBI'\n",
        "cwd"
      ]
    },
    {
      "cell_type": "markdown",
      "metadata": {
        "id": "mxgNoTJk6coH"
      },
      "source": [
        "## Structural Connectivity and Gain Matrices"
      ]
    },
    {
      "cell_type": "code",
      "execution_count": null,
      "metadata": {
        "collapsed": true,
        "id": "n3JE99XR6coH"
      },
      "outputs": [],
      "source": [
        "weights_path = os.path.join('/content/BVEP/Optimization/sacess_VEP_models/benchmarks/python/ExperimentalData/connectivity', 'weights.txt')\n",
        "weights = np.loadtxt(weights_path)"
      ]
    },
    {
      "cell_type": "code",
      "execution_count": null,
      "metadata": {
        "collapsed": true,
        "id": "KD-AjRZ46coI"
      },
      "outputs": [],
      "source": [
        "# normalize Connectome\n",
        "weights = weights/np.max(weights)\n",
        "num_regions = len(weights)"
      ]
    },
    {
      "cell_type": "code",
      "execution_count": null,
      "metadata": {
        "id": "lL8ERqbY6coI"
      },
      "outputs": [],
      "source": [
        "weights.min(), weights.max()"
      ]
    },
    {
      "cell_type": "code",
      "execution_count": null,
      "metadata": {
        "id": "lJR-E5F76coI"
      },
      "outputs": [],
      "source": [
        "Res_dir = 'results'  # relative folder name inside cwd\n",
        "\n",
        "results_path = os.path.join(cwd, Res_dir)\n",
        "os.makedirs(results_path, exist_ok=True)\n",
        "\n",
        "plt.figure(figsize=(8, 8))\n",
        "norm = colors.LogNorm(1e-7, weights.max())\n",
        "im = plt.imshow(weights, norm=norm, cmap=cm.jet)\n",
        "plt.colorbar(im, fraction=0.046, pad=0.04)\n",
        "plt.gca().set_title('Structural Connectivity', fontsize=24.0)\n",
        "plt.ylabel('#Regions', fontsize=22.0)\n",
        "plt.xlabel('#Regions', fontsize=22.0)\n",
        "\n",
        "plt.savefig(os.path.join(results_path, \"SCMatrix.png\"), dpi=800)\n",
        "plt.savefig(os.path.join(results_path, \"SCMatrix.svg\"), dpi=800)\n",
        "plt.show()\n"
      ]
    },
    {
      "cell_type": "markdown",
      "metadata": {
        "id": "wpgO8Tkm6coI"
      },
      "source": [
        "## ROIs chosen as Epileptogenic/propagation zones"
      ]
    },
    {
      "cell_type": "code",
      "execution_count": null,
      "metadata": {
        "collapsed": true,
        "id": "fVyklEsf6coI"
      },
      "outputs": [],
      "source": [
        "hz_val=-3.65\n",
        "pz_val=-2.4\n",
        "ez_val=-1.6\n",
        "\n",
        "ez_idx = np.array([6, 34],  dtype=np.int32)\n",
        "pz_wplng_idx = np.array([5,11], dtype=np.int32)\n",
        "pz_kplng_idx = np.array([27], dtype=np.int32)\n",
        "pz_idx = np.append(pz_kplng_idx, pz_wplng_idx)"
      ]
    },
    {
      "cell_type": "code",
      "execution_count": null,
      "metadata": {
        "collapsed": true,
        "id": "oa3fmIMO6coI"
      },
      "outputs": [],
      "source": [
        "#Here, confidential medical information\n",
        "weights[np.ix_(pz_kplng_idx, ez_idx)] = 4.0\n",
        "weights[np.ix_(pz_wplng_idx, ez_idx)] = 1.0\n",
        "\n",
        "weights[np.diag_indices(weights.shape[0])] = 0"
      ]
    },
    {
      "cell_type": "code",
      "execution_count": null,
      "metadata": {
        "id": "hI3r7r3h6coI"
      },
      "outputs": [],
      "source": [
        "SC=weights\n",
        "SC.shape"
      ]
    },
    {
      "cell_type": "markdown",
      "metadata": {
        "id": "Nr2l08976coI"
      },
      "source": [
        "### Simulator"
      ]
    },
    {
      "cell_type": "code",
      "execution_count": null,
      "metadata": {
        "collapsed": true,
        "id": "ej-HkWDA6coI"
      },
      "outputs": [],
      "source": [
        "from BVEP_Simulator import VEP2Dmodel"
      ]
    },
    {
      "cell_type": "markdown",
      "metadata": {
        "id": "0pk2fGFf6coI"
      },
      "source": [
        "### some simulations for  sanity check"
      ]
    },
    {
      "cell_type": "code",
      "execution_count": null,
      "metadata": {
        "collapsed": true,
        "id": "5SfrHjUn6coI"
      },
      "outputs": [],
      "source": [
        "T = 14.0\n",
        "dt=0.1\n",
        "ts = np.arange(0, T + dt, dt)"
      ]
    },
    {
      "cell_type": "code",
      "execution_count": null,
      "metadata": {
        "id": "wJNHG3NS6coI"
      },
      "outputs": [],
      "source": [
        "nt=ts.shape[0]\n",
        "nt"
      ]
    },
    {
      "cell_type": "code",
      "execution_count": null,
      "metadata": {
        "id": "c4mOqjix6coI"
      },
      "outputs": [],
      "source": [
        "nn=SC.shape[0]\n",
        "nn"
      ]
    },
    {
      "cell_type": "code",
      "execution_count": null,
      "metadata": {
        "id": "t63fLddI6coI"
      },
      "outputs": [],
      "source": [
        "ns=nn\n",
        "ns"
      ]
    },
    {
      "cell_type": "code",
      "execution_count": null,
      "metadata": {
        "id": "HqS0CXCs6coI"
      },
      "outputs": [],
      "source": [
        "tau=10.\n",
        "sigma=0*10e-1\n",
        "constants = np.array([tau, sigma])\n",
        "constants"
      ]
    },
    {
      "cell_type": "code",
      "execution_count": null,
      "metadata": {
        "collapsed": true,
        "id": "xgL2nAQa6coI"
      },
      "outputs": [],
      "source": [
        "eta_true = np.ones(nn)*hz_val\n",
        "eta_true[ez_idx] = ez_val\n",
        "eta_true[pz_idx] = pz_val"
      ]
    },
    {
      "cell_type": "code",
      "execution_count": null,
      "metadata": {
        "collapsed": true,
        "id": "ilf41YFF6coI"
      },
      "outputs": [],
      "source": [
        "K_true=1."
      ]
    },
    {
      "cell_type": "code",
      "execution_count": null,
      "metadata": {
        "collapsed": true,
        "id": "JJCH1USu6coI"
      },
      "outputs": [],
      "source": [
        "x_init=-2.5\n",
        "z_init=3.5\n",
        "init_conditions = np.array([x_init, z_init])"
      ]
    },
    {
      "cell_type": "code",
      "execution_count": null,
      "metadata": {
        "id": "nyoPdxIE6coI"
      },
      "outputs": [],
      "source": [
        "params_true = np.append(eta_true, K_true)\n",
        "params_true.shape"
      ]
    },
    {
      "cell_type": "code",
      "execution_count": null,
      "metadata": {
        "id": "jNO0K5Hl6coI"
      },
      "outputs": [],
      "source": [
        "start_time = time.time()\n",
        "Sim = VEP2Dmodel(params_true, constants, init_conditions, dt, ts, SC)\n",
        "print(\" single sim (sec) takes:\" , (time.time() - start_time))"
      ]
    },
    {
      "cell_type": "code",
      "execution_count": null,
      "metadata": {
        "id": "6KN4RRRX6coI"
      },
      "outputs": [],
      "source": [
        "start_time = time.time()\n",
        "Sim = VEP2Dmodel(params_true, constants, init_conditions, dt, ts, SC)\n",
        "print(\" single sim (sec) takes:\" , (time.time() - start_time))"
      ]
    },
    {
      "cell_type": "code",
      "execution_count": null,
      "metadata": {
        "id": "CXBrPR016coI"
      },
      "outputs": [],
      "source": [
        "X=Sim.reshape(nn, int(Sim.shape[0]/nn))\n",
        "X.shape"
      ]
    },
    {
      "cell_type": "code",
      "execution_count": null,
      "metadata": {
        "id": "K4uE22O26coQ"
      },
      "outputs": [],
      "source": [
        "plt.figure(figsize=(10,16))\n",
        "for i in range(0, nn):\n",
        "    if i in ez_idx:\n",
        "          plt.plot(X[i,:]+i, 'r', lw=3)\n",
        "    elif i in pz_idx:\n",
        "          plt.plot(X[i,:]+i, 'y', lw=3)\n",
        "    else:\n",
        "          plt.plot(X[i,:]+i, 'g')\n",
        "plt.yticks(np.r_[0:nn]-2, np.r_[0:nn],fontsize=10)\n",
        "plt.xticks(fontsize=16)\n",
        "plt.title(\"Source brain activity\",fontsize=18)\n",
        "plt.xlabel('Time',fontsize=22)\n",
        "plt.ylabel('Brain Regions#',fontsize=22)\n",
        "plt.show()"
      ]
    },
    {
      "cell_type": "code",
      "execution_count": null,
      "metadata": {
        "id": "K9ddr_jb6coQ"
      },
      "outputs": [],
      "source": [
        "plt.plot(X.T);"
      ]
    },
    {
      "cell_type": "markdown",
      "metadata": {
        "id": "OiV8unUM6coQ"
      },
      "source": [
        "### Data features"
      ]
    },
    {
      "cell_type": "code",
      "execution_count": null,
      "metadata": {
        "id": "CoHcRkm06coQ"
      },
      "outputs": [],
      "source": [
        "X.shape"
      ]
    },
    {
      "cell_type": "code",
      "execution_count": null,
      "metadata": {
        "id": "2PLQWtXQ6coQ"
      },
      "outputs": [],
      "source": [
        "X_area = np.trapz(X, dx=0.0001)\n",
        "X_area.shape"
      ]
    },
    {
      "cell_type": "code",
      "execution_count": null,
      "metadata": {
        "id": "ox-FJgzo6coQ"
      },
      "outputs": [],
      "source": [
        "plt.figure(figsize=(18, 4))\n",
        "plt.bar(np.arange(1,X_area.shape[0]+1), -X_area, color='black', alpha=0.3);\n",
        "plt.xlabel('Brain regions', fontsize=22)\n",
        "plt.ylabel('Source activity envelope power', fontsize=22)\n",
        "plt.yticks(fontsize=18, rotation=0)\n",
        "plt.xticks(fontsize=18, rotation=0)\n",
        "plt.tight_layout()\n",
        "plt.savefig(os.path.join(cwd+'/'+str(Res_dir),\"Source_envelop_power.png\"), dpi=800)\n",
        "plt.savefig(os.path.join(cwd+'/'+str(Res_dir),\"Source_envelop_power.svg\"), dpi=800)\n",
        "plt.show()"
      ]
    },
    {
      "cell_type": "code",
      "execution_count": null,
      "metadata": {
        "collapsed": true,
        "id": "wF6bNuWL6coQ"
      },
      "outputs": [],
      "source": [
        "X_pwr = np.sum((X*X), axis=1)\n",
        "X_pwr_n = 1-(X_pwr/ X_pwr.max())"
      ]
    },
    {
      "cell_type": "code",
      "execution_count": null,
      "metadata": {
        "id": "_A6oUN6C6coQ"
      },
      "outputs": [],
      "source": [
        "plt.figure(figsize=(18, 4))\n",
        "plt.bar(np.arange(1,X_pwr.shape[0]+1), X_pwr_n, color='black', alpha=0.3);\n",
        "plt.xlabel('Brain regions', fontsize=24)\n",
        "plt.ylabel('Source activity power', fontsize=24)\n",
        "plt.yticks(fontsize=18, rotation=0)\n",
        "plt.xticks(fontsize=18, rotation=0)\n",
        "plt.tight_layout()\n",
        "plt.savefig(os.path.join(cwd+'/'+str(Res_dir),\"Source_envelop_power_normalize.png\"), dpi=800)\n",
        "plt.savefig(os.path.join(cwd+'/'+str(Res_dir),\"Source_envelop_power_normalize.svg\"), dpi=800)\n",
        "plt.show()"
      ]
    },
    {
      "cell_type": "code",
      "execution_count": null,
      "metadata": {
        "id": "ZBFEKGMe6coQ"
      },
      "outputs": [],
      "source": [
        "plt.figure(figsize=(12,8))\n",
        "plt.subplot(211)\n",
        "plt.plot(X.T, linewidth=4, alpha=0.2);\n",
        "plt.xlabel('Time', fontsize=22)\n",
        "plt.ylabel('Source signals', fontsize=22)\n",
        "plt.yticks(fontsize=18, rotation=0)\n",
        "plt.xticks(fontsize=18, rotation=0)\n",
        "\n",
        "plt.subplot(212)\n",
        "plt.bar(np.arange(1,X_pwr_n.shape[0]+1), X_pwr_n, color='r', alpha=0.2)\n",
        "#plt.bar(np.arange(1,Seeg_area.shape[0]+1), Seeg_area, color='black', alpha=0.3);\n",
        "plt.xlabel('Brain regions', fontsize=22)\n",
        "plt.ylabel('Source activity envelop power', fontsize=22)\n",
        "plt.yticks(fontsize=18, rotation=0)\n",
        "plt.xticks(fontsize=18, rotation=0)\n",
        "plt.tight_layout()\n",
        "plt.show()"
      ]
    },
    {
      "cell_type": "code",
      "execution_count": null,
      "metadata": {
        "collapsed": true,
        "id": "snnDY9Fy6coR"
      },
      "outputs": [],
      "source": [
        "from BVEP_stat_summary import calculate_summary_statistics_features"
      ]
    },
    {
      "cell_type": "code",
      "execution_count": null,
      "metadata": {
        "id": "W8Ca238Q6coR"
      },
      "outputs": [],
      "source": [
        "nn, ns, nt"
      ]
    },
    {
      "cell_type": "code",
      "execution_count": null,
      "metadata": {
        "id": "ZLf3tOXQ6coR"
      },
      "outputs": [],
      "source": [
        "_=calculate_summary_statistics_features(X.reshape(-1), nn, nt, dt, ts, features=['seizures_onset'])\n",
        "num_features=_.shape[0]\n",
        "print('feature shape:', num_features)"
      ]
    },
    {
      "cell_type": "code",
      "execution_count": null,
      "metadata": {
        "id": "7jrMKn1g6coR"
      },
      "outputs": [],
      "source": [
        "num_params=nn+1\n",
        "num_params"
      ]
    },
    {
      "cell_type": "markdown",
      "metadata": {
        "id": "vSGTlXo76coR"
      },
      "source": [
        "### 1. Simulator wrapper"
      ]
    },
    {
      "cell_type": "code",
      "execution_count": null,
      "metadata": {
        "collapsed": true,
        "id": "Pf7U4ijD6coR"
      },
      "outputs": [],
      "source": [
        "def VEP2Dmodel_source_simulator_wrapper(params):\n",
        "\n",
        "    # theta is a torch tensor, we convert to numpy so we can save them later\n",
        "    params_np = theta.detach().cpu().numpy()\n",
        "\n",
        "    # time step\n",
        "    T = 14.0\n",
        "    dt=0.1\n",
        "    ts = np.arange(0, T + dt, dt)\n",
        "\n",
        "    # fixed parameters\n",
        "    tau=10.\n",
        "    sigma=0*10e-1\n",
        "    constants = np.array([tau, sigma])\n",
        "\n",
        "    nn=SC.shape[0]\n",
        "    ns=nn\n",
        "    nt=ts.shape[0]\n",
        "\n",
        "    # initial conditions\n",
        "    x_init=-2.5\n",
        "    z_init=3.5\n",
        "    init_conditions = np.array([x_init, z_init])\n",
        "\n",
        "    Sim = VEP2Dmodel(params_np, constants, init_conditions, dt, ts, SC)  # numpy array output, shape (~11844,)\n",
        "\n",
        "    #Source_signal=Sim.reshape(nn, int(Sim.shape[0]/nn))\n",
        "\n",
        "    #summstats = torch.as_tensor(calculate_summary_statistics_features(Source_signal.reshape(-1),  nn, nt, dt, ts, features=['seizures_onset']))\n",
        "\n",
        "    return Sim\n"
      ]
    },
    {
      "cell_type": "markdown",
      "metadata": {
        "id": "MmxnwANY6coR"
      },
      "source": [
        "### 2. Prior over model parameters"
      ]
    },
    {
      "cell_type": "code",
      "execution_count": null,
      "metadata": {
        "id": "qkGfZ5hh6coR"
      },
      "outputs": [],
      "source": [
        "nn+1"
      ]
    },
    {
      "cell_type": "code",
      "execution_count": null,
      "metadata": {
        "collapsed": true,
        "id": "ZgzPui7c6coR"
      },
      "outputs": [],
      "source": [
        "prior_min_eta=-5*np.ones(nn)\n",
        "prior_min_K=0*np.ones(1)\n",
        "\n",
        "prior_max_eta=-1*np.ones(nn)\n",
        "prior_max_K=2*np.ones(1)"
      ]
    },
    {
      "cell_type": "code",
      "execution_count": null,
      "metadata": {
        "collapsed": true,
        "id": "_O5NIqY46coR"
      },
      "outputs": [],
      "source": [
        "prior_min=np.append(prior_min_eta, prior_min_K)\n",
        "prior_max=np.append(prior_max_eta, prior_max_K)"
      ]
    },
    {
      "cell_type": "code",
      "execution_count": null,
      "metadata": {
        "id": "uCJhUr5T6coR"
      },
      "outputs": [],
      "source": [
        "prior_min.shape, prior_max.shape"
      ]
    },
    {
      "cell_type": "code",
      "execution_count": null,
      "metadata": {
        "collapsed": true,
        "id": "ik7nhluT6coR"
      },
      "outputs": [],
      "source": [
        "prior = BoxUniform(low=torch.tensor(prior_min, dtype=torch.float32),\n",
        "                   high=torch.tensor(prior_max, dtype=torch.float32))\n"
      ]
    },
    {
      "cell_type": "code",
      "execution_count": null,
      "metadata": {
        "id": "M2HSLAT36coR"
      },
      "outputs": [],
      "source": [
        "prior.sample().shape, prior.batch_shape, prior.event_shape"
      ]
    },
    {
      "cell_type": "markdown",
      "metadata": {
        "id": "iPu7JRs16coR"
      },
      "source": [
        "### 3. Simulation and inference"
      ]
    },
    {
      "cell_type": "code",
      "execution_count": null,
      "metadata": {
        "collapsed": true,
        "id": "vjfQJFaU6coR"
      },
      "outputs": [],
      "source": [
        "num_sim=10000"
      ]
    },
    {
      "cell_type": "code",
      "execution_count": null,
      "metadata": {
        "collapsed": true,
        "scrolled": false,
        "id": "dbXAo8iP6coR"
      },
      "outputs": [],
      "source": [
        "# start_time = time.time()\n",
        "\n",
        "# posterior = infer(VEP2Dmodel_source_simulator_wrapper, prior, method='SNPE',  num_simulations=10000, num_workers=1)\n",
        "\n",
        "# print (\"-\"*60)\n",
        "# print(\"--- %s seconds ---\" % (time.time() - start_time))"
      ]
    },
    {
      "cell_type": "code",
      "execution_count": null,
      "metadata": {
        "id": "JHavSDMl6coR"
      },
      "outputs": [],
      "source": [
        "mysavepath = os.path.join(Res_dir, 'output_sim/simulated_theta_x.npz')\n",
        "mysavepath"
      ]
    },
    {
      "cell_type": "code",
      "execution_count": null,
      "metadata": {
        "collapsed": true,
        "id": "3BdtabBP6coR"
      },
      "outputs": [],
      "source": [
        "# def save_sims(simulator: Callable, prior, mysavepath, num_simulations: int):\n",
        "\n",
        "#     simulator, prior = prepare_for_sbi(simulator, prior)\n",
        "\n",
        "#     theta, x = simulate_for_sbi(\n",
        "#         simulator=simulator,\n",
        "#         proposal=prior,\n",
        "#         num_simulations=num_simulations,\n",
        "#         show_progress_bar=True,)\n",
        "\n",
        "#     #print(theta,flush=True)\n",
        "#     print( 'theta shape:',theta.shape,flush=True)\n",
        "#     #print(x,flush=True)\n",
        "#     print('data shape:', x.shape,flush=True)\n",
        "\n",
        "#     np.savez(mysavepath,theta=theta,x=x)\n",
        "#ABOVE IS. DEPRECATED\n",
        "\n",
        "from typing import Callable\n",
        "\n",
        "\n",
        "#NEW\n",
        "def save_sims(simulator: Callable, prior, mysavepath: str, num_simulations: int):\n",
        "    # Sample parameters from prior\n",
        "    theta = prior.sample((num_simulations,))\n",
        "\n",
        "    # Run simulator for each theta\n",
        "    # If simulator returns a tensor, stack results\n",
        "    x = torch.stack([simulator(t) for t in theta])\n",
        "\n",
        "    print('theta shape:', theta.shape)\n",
        "    print('data shape:', x.shape)\n",
        "\n",
        "    # Save to npz file (convert tensors to numpy arrays)\n",
        "    np.savez(mysavepath, theta=theta.numpy(), x=x.numpy())\n"
      ]
    },
    {
      "cell_type": "code",
      "execution_count": null,
      "metadata": {
        "id": "qpPqG8Gt6coR"
      },
      "outputs": [],
      "source": [
        "# start_time = time.time()\n",
        "\n",
        "# save_sims(VEP2Dmodel_source_simulator_wrapper, prior, mysavepath, num_simulations=1)\n",
        "\n",
        "# print (\"-\"*60)\n",
        "# print(\"--- one sim took: %s seconds ---\" % (time.time() - start_time))\n",
        "#ABOVE IS DEPRECATED\n",
        "\n",
        "#NEW\n",
        "import time\n",
        "\n",
        "start_time = time.time()\n",
        "\n",
        "save_sims(VEP2Dmodel_source_simulator_wrapper, prior, mysavepath, num_simulations=1)\n",
        "\n",
        "print(\"-\" * 60)\n",
        "print(f\"--- one sim took: {time.time() - start_time} seconds ---\")"
      ]
    },
    {
      "cell_type": "code",
      "source": [
        "start_time = time.time()\n",
        "\n",
        "save_sims(VEP2Dmodel_source_simulator_wrapper, prior, mysavepath, num_simulations=1)\n",
        "\n",
        "print (\"-\"*60)\n",
        "print(\"--- one sim with JIT took: %s seconds ---\" % (time.time() - start_time))"
      ],
      "metadata": {
        "id": "6laqQO5E_G8U"
      },
      "execution_count": null,
      "outputs": []
    },
    {
      "cell_type": "code",
      "execution_count": null,
      "metadata": {
        "id": "WbPatTxF6coS"
      },
      "outputs": [],
      "source": [
        "start_time = time.time()\n",
        "\n",
        "save_sims(VEP2Dmodel_source_simulator_wrapper, prior, mysavepath, num_simulations=num_sim)\n",
        "\n",
        "print (\"-\"*60)\n",
        "print(\"---all simulations took:  %s seconds ---\" % (time.time() - start_time))"
      ]
    },
    {
      "cell_type": "markdown",
      "metadata": {
        "id": "9eB0Djd46coS"
      },
      "source": [
        "### Load simulations and calculate features"
      ]
    },
    {
      "cell_type": "code",
      "execution_count": null,
      "metadata": {
        "collapsed": true,
        "id": "GCwPb4Z06coS"
      },
      "outputs": [],
      "source": [
        "sim_deja=np.load(mysavepath)"
      ]
    },
    {
      "cell_type": "code",
      "execution_count": null,
      "metadata": {
        "collapsed": true,
        "id": "CalNOWwn6coS"
      },
      "outputs": [],
      "source": [
        "theta_deja=sim_deja['theta']\n",
        "x_deja=sim_deja['x']"
      ]
    },
    {
      "cell_type": "code",
      "execution_count": null,
      "metadata": {
        "id": "Qbc7ShJd6coS"
      },
      "outputs": [],
      "source": [
        "print( 'theta shape:',theta_deja.shape,flush=True)\n",
        "print('data shape:', x_deja.shape,flush=True)"
      ]
    },
    {
      "cell_type": "code",
      "execution_count": null,
      "metadata": {
        "collapsed": true,
        "id": "vN3K-mep6coS"
      },
      "outputs": [],
      "source": [
        "x_deja_features=np.zeros((num_sim,num_features))\n",
        "theta_deja_features=np.zeros((num_sim,num_params))"
      ]
    },
    {
      "cell_type": "code",
      "execution_count": null,
      "metadata": {
        "id": "raKD1mrF6coS"
      },
      "outputs": [],
      "source": [
        "print( 'theta shape:',theta_deja_features.shape,flush=True)\n",
        "print('data frature shape:', x_deja_features.shape,flush=True)"
      ]
    },
    {
      "cell_type": "code",
      "execution_count": null,
      "metadata": {
        "id": "ad0r6onZ6coS"
      },
      "outputs": [],
      "source": [
        "start_time = time.time()\n",
        "\n",
        "for i in range(num_sim):\n",
        "    theta_deja_features[i,:]=theta_deja[i,:]\n",
        "    x_deja_features[i,:]=calculate_summary_statistics_features(x_deja[i,:].reshape(-1), nn, nt, dt, ts, features=['seizures_onset'])\n",
        "\n",
        "print (\"-\"*60)\n",
        "print(\"---feature calculation took:  %s seconds ---\" % (time.time() - start_time))"
      ]
    },
    {
      "cell_type": "code",
      "execution_count": null,
      "metadata": {
        "id": "Y9zXizyV6coS"
      },
      "outputs": [],
      "source": [
        "print( 'theta deja shape:',theta_deja_features.shape,flush=True)\n",
        "print('data deja feature shape:', x_deja_features.shape,flush=True)"
      ]
    },
    {
      "cell_type": "code",
      "execution_count": null,
      "metadata": {
        "id": "9v795yXG6coS"
      },
      "outputs": [],
      "source": [
        "np.isnan(np.sum(x_deja_features))"
      ]
    },
    {
      "cell_type": "code",
      "execution_count": null,
      "metadata": {
        "collapsed": true,
        "id": "BHI1swFK6coS"
      },
      "outputs": [],
      "source": [
        "x = np.array(x_deja_features, dtype='float32')\n",
        "x     = torch.as_tensor(x)\n",
        "\n",
        "theta = np.array(theta_deja_features, dtype='float32')\n",
        "theta = theta.reshape(theta.shape[0],num_params)\n",
        "theta = torch.as_tensor(theta)"
      ]
    },
    {
      "cell_type": "code",
      "execution_count": null,
      "metadata": {
        "id": "ano8MRGw6coS"
      },
      "outputs": [],
      "source": [
        "print( 'theta shape:',theta.shape,flush=True)\n",
        "print('data feature shape:', x.shape,flush=True)"
      ]
    },
    {
      "cell_type": "markdown",
      "metadata": {
        "id": "kGOIryxb6coS"
      },
      "source": [
        "### Inference"
      ]
    },
    {
      "cell_type": "code",
      "execution_count": null,
      "metadata": {
        "collapsed": true,
        "id": "s8gzCMBI6coS"
      },
      "outputs": [],
      "source": [
        "def myinfer_SNPE(prior, theta, x):\n",
        "\n",
        "    inference = SNPE(prior, density_estimator='maf', device='cpu')\n",
        "    _ = inference.append_simulations(theta, x).train()\n",
        "    posterior = inference.build_posterior(sample_with='rejection')\n",
        "\n",
        "    return posterior"
      ]
    },
    {
      "cell_type": "code",
      "execution_count": null,
      "metadata": {
        "scrolled": false,
        "id": "pAg_TCKB6coS"
      },
      "outputs": [],
      "source": [
        "start_time = time.time()\n",
        "\n",
        "posterior = myinfer_SNPE(prior, theta, x)\n",
        "\n",
        "print (\"-\"*60)\n",
        "print(\"--- Training neural network took: %s seconds ---\" % (time.time() - start_time))"
      ]
    },
    {
      "cell_type": "markdown",
      "metadata": {
        "id": "By0mCeuG6coS"
      },
      "source": [
        "### Data"
      ]
    },
    {
      "cell_type": "code",
      "execution_count": null,
      "metadata": {
        "collapsed": true,
        "id": "_4NcgQYz6coS"
      },
      "outputs": [],
      "source": [
        "obs_source =VEP2Dmodel(params_true, constants, init_conditions, dt, ts, SC)\n",
        "obs_source=obs_source.reshape(nn, int(obs_source.shape[0]/nn))"
      ]
    },
    {
      "cell_type": "code",
      "execution_count": null,
      "metadata": {
        "collapsed": true,
        "id": "vqTeFfzh6coS"
      },
      "outputs": [],
      "source": [
        "obs_summary_statistics=calculate_summary_statistics_features(obs_source.reshape(-1),  nn, nt, dt, ts, features=['seizures_onset'])"
      ]
    },
    {
      "cell_type": "code",
      "execution_count": null,
      "metadata": {
        "id": "GMp3R_uA6coS"
      },
      "outputs": [],
      "source": [
        "obs_source.shape, obs_summary_statistics.shape"
      ]
    },
    {
      "cell_type": "code",
      "execution_count": null,
      "metadata": {
        "id": "M5OUXibF6coS"
      },
      "outputs": [],
      "source": [
        "y_obs=obs_source\n",
        "y_obs.shape"
      ]
    },
    {
      "cell_type": "code",
      "execution_count": null,
      "metadata": {
        "id": "8SKG_cMS6coS"
      },
      "outputs": [],
      "source": [
        "plt.figure(figsize=(10,16))\n",
        "for i in range(0, nn):\n",
        "    if i in ez_idx:\n",
        "          plt.plot(obs_source[i,:]+i, 'r', lw=3)\n",
        "    elif i in pz_idx:\n",
        "          plt.plot(obs_source[i,:]+i, 'y', lw=3)\n",
        "    else:\n",
        "          plt.plot(obs_source[i,:]+i, 'g')\n",
        "plt.yticks(np.r_[0:nn]-2, np.r_[0:nn],fontsize=10)\n",
        "plt.xticks(fontsize=16)\n",
        "plt.title(\"Source brain activity\",fontsize=18)\n",
        "plt.xlabel('Time',fontsize=22)\n",
        "plt.ylabel('Brain Regions#',fontsize=22)\n",
        "plt.savefig(os.path.join(cwd+'/'+str(Res_dir),\"SBI_BVEP_ode_obs_source_K_\"+str(K_true)+\".png\"), dpi=800)\n",
        "plt.savefig(os.path.join(cwd+'/'+str(Res_dir),\"SBI_BVEP_ode_obs_source_K_\"+str(K_true)+\".svg\"), dpi=800)\n",
        "plt.show()"
      ]
    },
    {
      "cell_type": "markdown",
      "metadata": {
        "id": "Q2bOPEgp6coT"
      },
      "source": [
        "### Posterior"
      ]
    },
    {
      "cell_type": "code",
      "execution_count": null,
      "metadata": {
        "collapsed": true,
        "id": "dFyYKe-Z6coT"
      },
      "outputs": [],
      "source": [
        "from sklearn.metrics import confusion_matrix\n",
        "from BVEP_SME import SME_labels, SEM_violinplot, plot_confusion_matrix, plot_zscore_shrinkage, plot_roc_curve, true_node_binary, estimated_node_binary, SME_accuracy"
      ]
    },
    {
      "cell_type": "code",
      "execution_count": null,
      "metadata": {
        "collapsed": true,
        "id": "_3cCJeyg6coT"
      },
      "outputs": [],
      "source": [
        "nodes=np.r_[0:nn]"
      ]
    },
    {
      "cell_type": "code",
      "execution_count": null,
      "metadata": {
        "collapsed": true,
        "id": "md2T0eFT6coT"
      },
      "outputs": [],
      "source": [
        "num_samples=200"
      ]
    },
    {
      "cell_type": "code",
      "execution_count": null,
      "metadata": {
        "id": "I-cJFEuh6coT"
      },
      "outputs": [],
      "source": [
        "start_time = time.time()\n",
        "\n",
        "posterior_samples = posterior.sample((num_samples,), obs_summary_statistics).numpy()\n",
        "\n",
        "print (\"-\"*60)\n",
        "print(\"--- sampling took: %s seconds ---\" % (time.time() - start_time))"
      ]
    },
    {
      "cell_type": "code",
      "execution_count": null,
      "metadata": {
        "id": "kxFMU4Yj6coT"
      },
      "outputs": [],
      "source": [
        "posterior_samples.shape, params_true.shape"
      ]
    },
    {
      "cell_type": "code",
      "execution_count": null,
      "metadata": {
        "collapsed": true,
        "id": "5n1V4Ma-6coT"
      },
      "outputs": [],
      "source": [
        "np.save(os.path.join(cwd+'/'+str(Res_dir), 'BVEP_ode_sbi_sourcelevel_patient1_posteriorsamples.npy') , posterior_samples)"
      ]
    },
    {
      "cell_type": "code",
      "execution_count": null,
      "metadata": {
        "collapsed": true,
        "id": "VS-XlPH46coT"
      },
      "outputs": [],
      "source": [
        "eta_posterior=posterior_samples[:,:-1]\n",
        "K_posterior=posterior_samples[:,-1]"
      ]
    },
    {
      "cell_type": "code",
      "execution_count": null,
      "metadata": {
        "id": "_wrBHlgm6coT"
      },
      "outputs": [],
      "source": [
        "K_posterior.mean(), K_posterior.std()"
      ]
    },
    {
      "cell_type": "code",
      "execution_count": null,
      "metadata": {
        "collapsed": true,
        "id": "co0uQ2Vb6coT"
      },
      "outputs": [],
      "source": [
        "eta_c=-1.95\n",
        "delta_eta=1.0"
      ]
    },
    {
      "cell_type": "code",
      "execution_count": null,
      "metadata": {
        "id": "egi3Rx7r6coT"
      },
      "outputs": [],
      "source": [
        "plt.figure(figsize=(15,4))\n",
        "SEM_violinplot(nn, eta_true, ez_idx, pz_idx, eta_posterior, eta_c, delta_eta )\n",
        "plt.savefig(os.path.join(cwd+'/'+str(Res_dir),\"SBI_BVEP_ode_InferredExcitability_K_\"+str(K_true)+\".png\"), dpi=800)\n",
        "plt.savefig(os.path.join(cwd+'/'+str(Res_dir),\"SBI_BVEP_ode_InferredExcitability_K_\"+str(K_true)+\".svg\"), dpi=800)\n",
        "plt.show()"
      ]
    },
    {
      "cell_type": "code",
      "execution_count": null,
      "metadata": {
        "id": "ZEFTDCX56coT"
      },
      "outputs": [],
      "source": [
        "plt.figure(figsize=(4,4))\n",
        "parts= plt.violinplot(K_posterior, widths=0.7, showmeans=True, showextrema=True);\n",
        "plt.plot(1,params_true[-1] ,'o', color='k', alpha=0.9, markersize=8)\n",
        "plt.ylabel(' Posterior ' +r'${(K)}$', fontsize=24);\n",
        "plt.xlabel(r'${K}$', fontsize=24);\n",
        "plt.yticks(fontsize=16)\n",
        "plt.xticks([])\n",
        "plt.tight_layout()\n",
        "plt.savefig(os.path.join(cwd+'/'+str(Res_dir),\"SBI_BVEP_ode_InferredCoupling_K_\"+str(K_true)+\".png\"), dpi=800)\n",
        "plt.savefig(os.path.join(cwd+'/'+str(Res_dir),\"SBI_BVEP_ode_InferredCoupling_K_\"+str(K_true)+\".svg\"), dpi=800)\n",
        "plt.show()"
      ]
    },
    {
      "cell_type": "code",
      "execution_count": null,
      "metadata": {
        "collapsed": true,
        "id": "x4Rkh97g6coT"
      },
      "outputs": [],
      "source": [
        "estimated_posterior=np.percentile(posterior_samples, [50], axis=0).reshape(-1)"
      ]
    },
    {
      "cell_type": "code",
      "execution_count": null,
      "metadata": {
        "collapsed": true,
        "id": "DWJ5a4jG6coT"
      },
      "outputs": [],
      "source": [
        "y_fit_source =VEP2Dmodel(estimated_posterior, constants, init_conditions, dt, ts, SC)\n",
        "\n",
        "yfit_source=y_fit_source.reshape(nn, int(y_fit_source.shape[0]/nn))"
      ]
    },
    {
      "cell_type": "code",
      "execution_count": null,
      "metadata": {
        "id": "b5EJmWEc6coT"
      },
      "outputs": [],
      "source": [
        "y_fit=yfit_source\n",
        "y_fit.shape"
      ]
    },
    {
      "cell_type": "code",
      "execution_count": null,
      "metadata": {
        "collapsed": true,
        "id": "ad1RDbs86coT"
      },
      "outputs": [],
      "source": [
        "np.save(os.path.join(cwd+'/'+str(Res_dir), 'BVEP_ode_sbi_sourcelevel_patient1_y_obs.npy') , y_obs)\n",
        "np.save(os.path.join(cwd+'/'+str(Res_dir), 'BVEP_ode_sbi_sourcelevel_patient1_y_fit.npy') , y_fit)"
      ]
    },
    {
      "cell_type": "code",
      "execution_count": null,
      "metadata": {
        "id": "_kDPZP-p6coT"
      },
      "outputs": [],
      "source": [
        "Rois=np.array([1, 5, 6, 11, 27, 34, 50])\n",
        "\n",
        "plt.figure(figsize=(10,4))\n",
        "for roi in Rois:\n",
        "    plt.plot(y_obs.T[:,roi], '.')\n",
        "    plt.plot(y_fit.T[:,roi] )\n",
        "plt.title(\"Observation vs prediction\",fontsize=15)\n",
        "plt.xlabel('Time', fontsize=22)\n",
        "plt.ylabel('SEEG signals', fontsize=22)\n",
        "plt.yticks(fontsize=18, rotation=0)\n",
        "plt.xticks(fontsize=18, rotation=0)\n",
        "plt.show()"
      ]
    },
    {
      "cell_type": "code",
      "execution_count": null,
      "metadata": {
        "id": "dcHT8s3x6coT"
      },
      "outputs": [],
      "source": [
        "plt.figure(figsize=(12,4))\n",
        "\n",
        "plt.subplot(121);\n",
        "plt.plot(y_obs.T)\n",
        "plt.title(\"Simulated source data\", fontsize=22)\n",
        "plt.xlabel('Time', fontsize=22)\n",
        "plt.ylabel('Source activity', fontsize=22)\n",
        "plt.yticks(fontsize=18, rotation=0)\n",
        "plt.xticks(fontsize=18, rotation=0)\n",
        "\n",
        "plt.subplot(122)\n",
        "plt.plot(y_fit.T)\n",
        "plt.title(\" Predicted Source data\", fontsize=22)\n",
        "plt.xlabel('Time', fontsize=22)\n",
        "plt.ylabel('Source activity', fontsize=22)\n",
        "plt.yticks(fontsize=18, rotation=0)\n",
        "plt.xticks(fontsize=18, rotation=0)\n",
        "plt.tight_layout()\n",
        "plt.savefig(os.path.join(cwd+'/'+str(Res_dir),\"SBI_FittedBVEP_ode_observation_K_\"+str(K_true)+\".png\"), dpi=800)\n",
        "plt.savefig(os.path.join(cwd+'/'+str(Res_dir),\"SBI_FittedBVEP_ode_observation_K_\"+str(K_true)+\".svg\"), dpi=800)\n",
        "plt.show()"
      ]
    },
    {
      "cell_type": "code",
      "execution_count": null,
      "metadata": {
        "id": "U194ANAz6coT"
      },
      "outputs": [],
      "source": [
        "plt.figure(figsize=(14, 4))\n",
        "plt.subplot(121);\n",
        "plt.imshow(y_obs, aspect='auto', interpolation='bilinear',  origin='lower', cmap='Reds')\n",
        "plt.title(\"Simulated Source  data\", fontsize=22)\n",
        "plt.xlabel('Time', fontsize=22)\n",
        "plt.ylabel('Source activity', fontsize=22)\n",
        "plt.yticks(fontsize=18, rotation=0)\n",
        "plt.xticks(fontsize=18, rotation=0)\n",
        "plt.colorbar();\n",
        "\n",
        "plt.subplot(122)\n",
        "plt.imshow(y_fit, aspect='auto', interpolation='bilinear',  origin='lower', cmap='Reds')\n",
        "plt.title(\" Predicted Source  data\", fontsize=22)\n",
        "plt.xlabel('Time', fontsize=22)\n",
        "plt.ylabel('Source activity', fontsize=22)\n",
        "plt.yticks(fontsize=18, rotation=0)\n",
        "plt.xticks(fontsize=18, rotation=0)\n",
        "plt.colorbar();\n",
        "\n",
        "plt.tight_layout()\n",
        "plt.savefig(os.path.join(cwd+'/'+str(Res_dir),\"SBI_ImshowFittedBVEP_ode_observation_K_\"+str(K_true)+\".png\"), dpi=800)\n",
        "plt.savefig(os.path.join(cwd+'/'+str(Res_dir),\"SBI_ImshowFittedBVEP_ode_observation_K_\"+str(K_true)+\".svg\"), dpi=800)\n",
        "plt.show()"
      ]
    },
    {
      "cell_type": "code",
      "execution_count": null,
      "metadata": {
        "id": "k44km-xz6coT"
      },
      "outputs": [],
      "source": [
        "eta_true.shape, eta_posterior.shape"
      ]
    },
    {
      "cell_type": "code",
      "execution_count": null,
      "metadata": {
        "collapsed": true,
        "id": "MbVP26Vm6coU"
      },
      "outputs": [],
      "source": [
        "true_labels_nodes,est_labels_nodes =SME_labels(eta_true, eta_posterior.transpose(), eta_c, delta_eta)"
      ]
    },
    {
      "cell_type": "code",
      "execution_count": null,
      "metadata": {
        "id": "b2LA3rDi6coU"
      },
      "outputs": [],
      "source": [
        "Confusion_matrix_values= confusion_matrix(true_labels_nodes, est_labels_nodes, labels=[\"EZ\", \"PZ\", \"HZ\"])\n",
        "print('Confusion_matrix_values= \\n', Confusion_matrix_values)"
      ]
    },
    {
      "cell_type": "code",
      "execution_count": null,
      "metadata": {
        "id": "hntpqiTv6coU"
      },
      "outputs": [],
      "source": [
        "plt.figure(figsize=(8, 6))\n",
        "plot_confusion_matrix(Confusion_matrix_values, [\"EZ\", \"PZ\", \"HZ\"])\n",
        "plt.savefig(os.path.join(cwd+'/'+str(Res_dir),\"SBI_BVEP_ode_ConfusionMatrix_K_\"+str(K_true)+\".png\"), dpi=800)\n",
        "plt.savefig(os.path.join(cwd+'/'+str(Res_dir),\"SBI_BVEP_ode_ConfusionMatrix_K_\"+str(K_true)+\".svg\"), dpi=800)\n",
        "plt.tight_layout()\n",
        "plt.show()"
      ]
    },
    {
      "cell_type": "code",
      "execution_count": null,
      "metadata": {
        "id": "6aize7nL6coU"
      },
      "outputs": [],
      "source": [
        "np.sum(np.std(eta_posterior, axis=0))"
      ]
    },
    {
      "cell_type": "code",
      "execution_count": null,
      "metadata": {
        "collapsed": true,
        "id": "CH_UVgrp6coU"
      },
      "outputs": [],
      "source": [
        "from report_metrics import LSE, Err, RMSE, LSE_obs, z_score, shrinkage"
      ]
    },
    {
      "cell_type": "code",
      "execution_count": null,
      "metadata": {
        "collapsed": true,
        "id": "XmHSy0b06coU"
      },
      "outputs": [],
      "source": [
        "eta_est_mu=np.mean(eta_posterior, axis=0)\n",
        "eta_est_std=np.std(eta_posterior, axis=0)"
      ]
    },
    {
      "cell_type": "code",
      "execution_count": null,
      "metadata": {
        "collapsed": true,
        "id": "l2zfWvge6coU"
      },
      "outputs": [],
      "source": [
        "b=-7\n",
        "a=-1\n",
        "prior_std =np.sqrt((1/12)*(b-a)**2)"
      ]
    },
    {
      "cell_type": "code",
      "execution_count": null,
      "metadata": {
        "collapsed": true,
        "id": "8MIhKTBm6coU"
      },
      "outputs": [],
      "source": [
        "def plot_zscore_shrinkage(nodes, eta_true, eta_est_mu, eta_est_std, prior_std):\n",
        "    z_score_eta=z_score(eta_true, eta_est_mu, eta_est_std)\n",
        "    colors= np.random.rand(z_score_eta.shape[0])\n",
        "    plt.scatter(shrinkage([prior_std]*nodes.shape[0], eta_est_std), z_score_eta ,s=120, c='blue')\n",
        "    plt.xlabel(\"Posterior shrinkages\", fontsize=24)\n",
        "    plt.ylabel(\"Posterior z-scores\", fontsize=24)\n",
        "    plt.xticks(fontsize=16)\n",
        "    plt.yticks(fontsize=16)"
      ]
    },
    {
      "cell_type": "code",
      "execution_count": null,
      "metadata": {
        "id": "eSrNbGVw6coU"
      },
      "outputs": [],
      "source": [
        "plot_zscore_shrinkage(nodes, eta_true, eta_est_mu, eta_est_std, prior_std)\n",
        "plt.axis((-.1,1.1,-2,20))\n",
        "plt.tight_layout()\n",
        "plt.savefig(os.path.join(cwd+'/'+str(Res_dir),\"SBI_BVEP_ode_zscore_shrinkage_K_\"+str(K_true)+\".png\"), dpi=800)\n",
        "plt.savefig(os.path.join(cwd+'/'+str(Res_dir),\"SBI_BVEP_ode_zscore_shrinkage_K_\"+str(K_true)+\".svg\"), dpi=800)\n",
        "plt.show()"
      ]
    },
    {
      "cell_type": "code",
      "execution_count": null,
      "metadata": {
        "id": "YTyDNftU6coU"
      },
      "outputs": [],
      "source": [
        "Err(eta_true, eta_est_mu), RMSE(eta_true, eta_est_mu)"
      ]
    },
    {
      "cell_type": "code",
      "execution_count": null,
      "metadata": {
        "id": "Pn1N6zvU6coU"
      },
      "outputs": [],
      "source": [
        "Err(y_obs, y_fit), RMSE(y_obs, y_fit)"
      ]
    },
    {
      "cell_type": "code",
      "execution_count": null,
      "metadata": {
        "id": "kqhc4CuW6coU"
      },
      "outputs": [],
      "source": [
        "shrinkage([prior_std]*nodes.shape[0], eta_est_std).shape"
      ]
    },
    {
      "cell_type": "code",
      "execution_count": null,
      "metadata": {
        "collapsed": true,
        "id": "SF1DGzkl6coU"
      },
      "outputs": [],
      "source": [
        "from sklearn import metrics\n",
        "from itertools import cycle\n",
        "from sklearn.metrics import roc_curve\n",
        "from sklearn.metrics import roc_auc_score\n",
        "from sklearn.metrics import precision_recall_curve\n",
        "from sklearn.preprocessing import label_binarize"
      ]
    },
    {
      "cell_type": "code",
      "execution_count": null,
      "metadata": {
        "collapsed": true,
        "id": "zMvJAOEj6coU"
      },
      "outputs": [],
      "source": [
        "n_classes=3\n",
        "node_classes=['HZ', 'PZ', 'EZ']"
      ]
    },
    {
      "cell_type": "code",
      "execution_count": null,
      "metadata": {
        "collapsed": true,
        "id": "saHNwFRs6coU"
      },
      "outputs": [],
      "source": [
        "true_nodes=true_node_binary(true_labels_nodes)\n",
        "estimated_nodes=estimated_node_binary(est_labels_nodes)"
      ]
    },
    {
      "cell_type": "code",
      "execution_count": null,
      "metadata": {
        "collapsed": true,
        "id": "k1K7NPiZ6coU"
      },
      "outputs": [],
      "source": [
        "y_true=label_binarize(true_nodes, classes=[0, 1, 2])\n",
        "y_pred=label_binarize(estimated_nodes, classes=[0, 1, 2])"
      ]
    },
    {
      "cell_type": "code",
      "execution_count": null,
      "metadata": {
        "id": "VCc2R9Km6coU"
      },
      "outputs": [],
      "source": [
        "y_true.shape, y_pred.shape"
      ]
    },
    {
      "cell_type": "code",
      "execution_count": null,
      "metadata": {
        "collapsed": true,
        "id": "ByvfwVKE6coU"
      },
      "outputs": [],
      "source": [
        "fpr = dict()\n",
        "tpr = dict()\n",
        "roc_auc = dict()\n",
        "\n",
        "\n",
        "for i in range(n_classes):\n",
        "    fpr[i], tpr[i], _ = metrics.roc_curve(y_true[:, i], y_pred[:, i])\n",
        "    roc_auc[i] = metrics.auc(fpr[i], tpr[i])\n",
        "\n",
        "# Compute micro-average ROC curve and ROC area\n",
        "fpr[\"micro\"], tpr[\"micro\"], _ = metrics.roc_curve(y_true.ravel(), y_pred.ravel())\n",
        "roc_auc[\"micro\"] = metrics.auc(fpr[\"micro\"], tpr[\"micro\"])\n",
        "\n",
        "\n",
        "all_fpr = np.unique(np.concatenate([fpr[i] for i in range(n_classes)]))\n",
        "\n",
        "# Then interpolate all ROC curves at this points\n",
        "mean_tpr = np.zeros_like(all_fpr)\n",
        "for i in range(n_classes):\n",
        "    mean_tpr += interp(all_fpr, fpr[i], tpr[i])\n",
        "\n",
        "# Finally average it and compute AUC\n",
        "mean_tpr /= n_classes\n",
        "\n",
        "fpr[\"macro\"] = all_fpr\n",
        "tpr[\"macro\"] = mean_tpr\n",
        "roc_auc[\"macro\"] = metrics.auc(fpr[\"macro\"], tpr[\"macro\"])"
      ]
    },
    {
      "cell_type": "code",
      "execution_count": null,
      "metadata": {
        "id": "RuoHQ9RH6coU"
      },
      "outputs": [],
      "source": [
        "# Plot all ROC curves\n",
        "plt.figure()\n",
        "\n",
        "plt.plot(fpr[\"micro\"], tpr[\"micro\"],\n",
        "         label='micro-average ROC curve (area = {0:0.2f})'\n",
        "               ''.format(roc_auc[\"micro\"]),\n",
        "         color='deeppink', linestyle=':', linewidth=4)\n",
        "\n",
        "plt.plot(fpr[\"macro\"], tpr[\"macro\"],\n",
        "         label='macro-average ROC curve (area = {0:0.2f})'\n",
        "               ''.format(roc_auc[\"macro\"]),\n",
        "         color='navy', linestyle=':', linewidth=4)\n",
        "\n",
        "colors = cycle(['aqua', 'darkorange', 'cornflowerblue'])\n",
        "lw=2\n",
        "\n",
        "for i, color in zip(range(n_classes), colors):\n",
        "    plt.plot(fpr[i], tpr[i], color=color, lw=lw,\n",
        "             label='ROC curve of class '+ str(node_classes[i])+' (area = {1:0.2f})'\n",
        "             ''.format(i, roc_auc[i]))\n",
        "\n",
        "plt.plot([0, 1], [0, 1], 'k--', lw=lw)\n",
        "plt.xlim([-.01, 1.0])\n",
        "plt.ylim([0.0, 1.05])\n",
        "plt.xlabel('False Positive Rate', fontsize=22)\n",
        "plt.ylabel('True Positive Rate', fontsize=22)\n",
        "plt.title('ROC for amortized inference of SEEG', fontsize=18)\n",
        "plt.legend(loc=\"lower right\")\n",
        "plt.xticks(fontsize=16)\n",
        "plt.yticks(fontsize=16)\n",
        "plt.tight_layout()\n",
        "plt.savefig(os.path.join(cwd+'/'+str(Res_dir),\"ROC_K_\"+str(K_true)+\".png\"), dpi=800)\n",
        "plt.savefig(os.path.join(cwd+'/'+str(Res_dir),\"ROC_K_\"+str(K_true)+\".png\"), dpi=800)\n",
        "plt.show()"
      ]
    },
    {
      "cell_type": "code",
      "execution_count": null,
      "metadata": {
        "id": "NkXgiqUC6coU"
      },
      "outputs": [],
      "source": [
        "fpr"
      ]
    },
    {
      "cell_type": "code",
      "execution_count": null,
      "metadata": {
        "id": "3j78Cd_56coU"
      },
      "outputs": [],
      "source": [
        "tpr"
      ]
    },
    {
      "cell_type": "code",
      "execution_count": null,
      "metadata": {
        "id": "ZS-yPLYc6coU"
      },
      "outputs": [],
      "source": [
        "roc_auc[\"micro\"], roc_auc[\"macro\"]"
      ]
    },
    {
      "cell_type": "markdown",
      "metadata": {
        "id": "wRMd28db6coV"
      },
      "source": [
        "### Another Data set"
      ]
    },
    {
      "cell_type": "code",
      "execution_count": null,
      "metadata": {
        "collapsed": true,
        "id": "_gZScYBD6coV"
      },
      "outputs": [],
      "source": [
        "hz_val=-3.65\n",
        "pz_val=-2.5\n",
        "ez_val=-1.7\n",
        "\n",
        "\n",
        "ez_idx = np.array([7, 29],  dtype=np.int32)\n",
        "pz_wplng_idx = np.array([6, 9, 28], dtype=np.int32)\n",
        "pz_kplng_idx = np.array([27], dtype=np.int32)\n",
        "pz_idx = np.append(pz_kplng_idx, pz_wplng_idx)"
      ]
    },
    {
      "cell_type": "code",
      "execution_count": null,
      "metadata": {
        "collapsed": true,
        "id": "ExyKgkub6coV"
      },
      "outputs": [],
      "source": [
        "eta_true = np.ones(nn)*hz_val\n",
        "eta_true[ez_idx] = ez_val\n",
        "eta_true[pz_idx] = pz_val"
      ]
    },
    {
      "cell_type": "code",
      "execution_count": null,
      "metadata": {
        "collapsed": true,
        "id": "zVyYNez06coV"
      },
      "outputs": [],
      "source": [
        "K_true=1."
      ]
    },
    {
      "cell_type": "code",
      "execution_count": null,
      "metadata": {
        "collapsed": true,
        "id": "Wt2K0qgf6coV"
      },
      "outputs": [],
      "source": [
        "x_init=-2.5\n",
        "z_init=3.5\n",
        "init_conditions = np.array([x_init, z_init])"
      ]
    },
    {
      "cell_type": "code",
      "execution_count": null,
      "metadata": {
        "id": "0G3qiiH46coV"
      },
      "outputs": [],
      "source": [
        "params_true = np.append(eta_true, K_true)\n",
        "params_true.shape"
      ]
    },
    {
      "cell_type": "code",
      "execution_count": null,
      "metadata": {
        "collapsed": true,
        "id": "dZW5iuGA6coV"
      },
      "outputs": [],
      "source": [
        "obs_source =VEP2Dmodel(params_true, constants, init_conditions, dt, ts, SC)\n",
        "obs_source=obs_source.reshape(nn, int(obs_source.shape[0]/nn))"
      ]
    },
    {
      "cell_type": "code",
      "execution_count": null,
      "metadata": {
        "id": "GagcTth46coV"
      },
      "outputs": [],
      "source": [
        "plt.figure(figsize=(10,16))\n",
        "for i in range(0, nn):\n",
        "    if i in ez_idx:\n",
        "          plt.plot(obs_source[i,:]+i, 'r', lw=3)\n",
        "    elif i in pz_idx:\n",
        "          plt.plot(obs_source[i,:]+i, 'y', lw=3)\n",
        "    else:\n",
        "          plt.plot(obs_source[i,:]+i, 'g')\n",
        "plt.yticks(np.r_[0:nn]-2, np.r_[0:nn],fontsize=10)\n",
        "plt.xticks(fontsize=16)\n",
        "plt.title(\"Source brain activity\",fontsize=18)\n",
        "plt.xlabel('Time',fontsize=22)\n",
        "plt.ylabel('Brain Regions#',fontsize=22)\n",
        "plt.savefig(os.path.join(cwd+'/'+str(Res_dir),\"SBI_BVEP_ode_obs2_source_K_\"+str(K_true)+\".png\"), dpi=800)\n",
        "plt.savefig(os.path.join(cwd+'/'+str(Res_dir),\"SBI_BVEP_ode_obs2_source_K_\"+str(K_true)+\".svg\"), dpi=800)\n",
        "plt.show()"
      ]
    },
    {
      "cell_type": "code",
      "execution_count": null,
      "metadata": {
        "collapsed": true,
        "id": "372GHwdb6coV"
      },
      "outputs": [],
      "source": [
        "obs_summary_statistics=calculate_summary_statistics_features(obs_source.reshape(-1),  nn, nt, dt, ts, features=['seizures_onset'])"
      ]
    },
    {
      "cell_type": "code",
      "execution_count": null,
      "metadata": {
        "id": "cxJsgnFV6coV"
      },
      "outputs": [],
      "source": [
        "obs_source.shape, obs_summary_statistics.shape"
      ]
    },
    {
      "cell_type": "code",
      "execution_count": null,
      "metadata": {
        "id": "Sx_Edq1-6coV"
      },
      "outputs": [],
      "source": [
        "y_obs=obs_source\n",
        "y_obs.shape"
      ]
    },
    {
      "cell_type": "code",
      "execution_count": null,
      "metadata": {
        "id": "FVftHeIX6coV"
      },
      "outputs": [],
      "source": [
        "plt.figure(figsize=(10,6))\n",
        "plt.plot(obs_source.T)\n",
        "plt.title(\"Source activity signals\",fontsize=15)\n",
        "plt.xlabel('Time',fontsize=12)\n",
        "plt.ylabel('Regions#',fontsize=12)\n",
        "plt.savefig(os.path.join(cwd+'/'+str(Res_dir),\"SBI_BVEP_ode_obs2_seeg_K_\"+str(K_true)+\".png\"), dpi=800)\n",
        "plt.savefig(os.path.join(cwd+'/'+str(Res_dir),\"SBI_BVEP_ode_obs2_seeg_K_\"+str(K_true)+\".svg\"), dpi=800)"
      ]
    },
    {
      "cell_type": "markdown",
      "metadata": {
        "id": "06lvwfm_6coV"
      },
      "source": [
        "### Posterior"
      ]
    },
    {
      "cell_type": "code",
      "execution_count": null,
      "metadata": {
        "collapsed": true,
        "id": "SBIsgMfz6coV"
      },
      "outputs": [],
      "source": [
        "nodes=np.r_[0:nn]"
      ]
    },
    {
      "cell_type": "code",
      "execution_count": null,
      "metadata": {
        "collapsed": true,
        "id": "sjIG2U-56coV"
      },
      "outputs": [],
      "source": [
        "num_samples=200"
      ]
    },
    {
      "cell_type": "code",
      "execution_count": null,
      "metadata": {
        "id": "I0axn6jv6coV"
      },
      "outputs": [],
      "source": [
        "start_time = time.time()\n",
        "\n",
        "posterior_samples = posterior.sample((num_samples,), obs_summary_statistics).numpy()\n",
        "\n",
        "print (\"-\"*60)\n",
        "print(\"--- sampling took: %s seconds ---\" % (time.time() - start_time))"
      ]
    },
    {
      "cell_type": "code",
      "execution_count": null,
      "metadata": {
        "id": "mH29LY0f6coV"
      },
      "outputs": [],
      "source": [
        "posterior_samples.shape, params_true.shape"
      ]
    },
    {
      "cell_type": "code",
      "execution_count": null,
      "metadata": {
        "collapsed": true,
        "id": "mww0XZxi6coV"
      },
      "outputs": [],
      "source": [
        "np.save(os.path.join(cwd+'/'+str(Res_dir), 'BVEP_ode_sbi_sourcelevel_obs2_patient1_posteriorsamples.npy') , posterior_samples)"
      ]
    },
    {
      "cell_type": "code",
      "execution_count": null,
      "metadata": {
        "collapsed": true,
        "id": "9pLvsghV6coV"
      },
      "outputs": [],
      "source": [
        "eta_posterior=posterior_samples[:,:-1]\n",
        "K_posterior=posterior_samples[:,-1]"
      ]
    },
    {
      "cell_type": "code",
      "execution_count": null,
      "metadata": {
        "id": "wD4nivjw6coV"
      },
      "outputs": [],
      "source": [
        "K_posterior.mean(), K_posterior.std()"
      ]
    },
    {
      "cell_type": "code",
      "execution_count": null,
      "metadata": {
        "collapsed": true,
        "id": "BmL3vniE6coV"
      },
      "outputs": [],
      "source": [
        "eta_c=-1.95\n",
        "delta_eta=1.0"
      ]
    },
    {
      "cell_type": "code",
      "execution_count": null,
      "metadata": {
        "id": "7TDnfPL16coV"
      },
      "outputs": [],
      "source": [
        "plt.figure(figsize=(15,4))\n",
        "SEM_violinplot(nn, eta_true, ez_idx, pz_idx, eta_posterior, eta_c, delta_eta )\n",
        "plt.savefig(os.path.join(cwd+'/'+str(Res_dir),\"SBI_BVEP_ode_obs2_InferredExcitability_K_\"+str(K_true)+\".png\"), dpi=800)\n",
        "plt.savefig(os.path.join(cwd+'/'+str(Res_dir),\"SBI_BVEP_ode_obs2_InferredExcitability_K_\"+str(K_true)+\".svg\"), dpi=800)\n",
        "plt.show()"
      ]
    },
    {
      "cell_type": "code",
      "execution_count": null,
      "metadata": {
        "id": "y8DZQ_Zt6coV"
      },
      "outputs": [],
      "source": [
        "plt.figure(figsize=(4,4))\n",
        "parts= plt.violinplot(K_posterior, widths=0.7, showmeans=True, showextrema=True);\n",
        "plt.plot(1,params_true[-1] ,'o', color='k', alpha=0.9, markersize=8)\n",
        "plt.ylabel(' Posterior ' +r'${(K)}$', fontsize=24);\n",
        "plt.xlabel(r'${K}$', fontsize=24);\n",
        "plt.yticks(fontsize=16)\n",
        "plt.xticks([])\n",
        "plt.tight_layout()\n",
        "plt.savefig(os.path.join(cwd+'/'+str(Res_dir),\"SBI_BVEP_ode_obs2_InferredCoupling_K_\"+str(K_true)+\".png\"), dpi=800)\n",
        "plt.savefig(os.path.join(cwd+'/'+str(Res_dir),\"SBI_BVEP_ode_obs2_InferredCoupling_K_\"+str(K_true)+\".svg\"), dpi=800)\n",
        "plt.show()"
      ]
    },
    {
      "cell_type": "code",
      "execution_count": null,
      "metadata": {
        "collapsed": true,
        "id": "crbb6lO66coW"
      },
      "outputs": [],
      "source": [
        "estimated_posterior=np.percentile(posterior_samples, [50], axis=0).reshape(-1)"
      ]
    },
    {
      "cell_type": "code",
      "execution_count": null,
      "metadata": {
        "collapsed": true,
        "id": "ZfTf4hND6coW"
      },
      "outputs": [],
      "source": [
        "y_fit_source =VEP2Dmodel(estimated_posterior, constants, init_conditions, dt, ts, SC)\n",
        "\n",
        "yfit_source=y_fit_source.reshape(nn, int(y_fit_source.shape[0]/nn))\n"
      ]
    },
    {
      "cell_type": "code",
      "execution_count": null,
      "metadata": {
        "id": "OrfPrH9I6coW"
      },
      "outputs": [],
      "source": [
        "y_fit=yfit_source\n",
        "y_fit.shape"
      ]
    },
    {
      "cell_type": "code",
      "execution_count": null,
      "metadata": {
        "collapsed": true,
        "id": "7gSU65OT6coW"
      },
      "outputs": [],
      "source": [
        "np.save(os.path.join(cwd+'/'+str(Res_dir), 'BVEP_ode_sbi_sourcelevel_obs2_patient1_y_obs.npy') , y_obs)\n",
        "np.save(os.path.join(cwd+'/'+str(Res_dir), 'BVEP_ode_sbi_sourcelevel_obs2_patient1_y_fit.npy') , y_fit)"
      ]
    },
    {
      "cell_type": "code",
      "execution_count": null,
      "metadata": {
        "id": "Lthx-rdQ6coW"
      },
      "outputs": [],
      "source": [
        "Rois=np.array([1, 5, 6, 11, 27, 34, 50])\n",
        "\n",
        "plt.figure(figsize=(10,4))\n",
        "for roi in Rois:\n",
        "    plt.plot(y_obs.T[:,roi], '.')\n",
        "    plt.plot(y_fit.T[:,roi] )\n",
        "plt.title(\"Observation vs prediction\",fontsize=15)\n",
        "plt.xlabel('Time', fontsize=22)\n",
        "plt.ylabel('Source signals', fontsize=22)\n",
        "plt.yticks(fontsize=18, rotation=0)\n",
        "plt.xticks(fontsize=18, rotation=0)\n",
        "plt.show()"
      ]
    },
    {
      "cell_type": "code",
      "execution_count": null,
      "metadata": {
        "id": "4gLcZ2lZ6coW"
      },
      "outputs": [],
      "source": [
        "plt.figure(figsize=(12,4))\n",
        "\n",
        "plt.subplot(121);\n",
        "plt.plot(y_obs.T)\n",
        "plt.title(\"Simulated Source data\", fontsize=22)\n",
        "plt.xlabel('Time', fontsize=22)\n",
        "plt.ylabel('Source activity', fontsize=22)\n",
        "plt.yticks(fontsize=18, rotation=0)\n",
        "plt.xticks(fontsize=18, rotation=0)\n",
        "\n",
        "plt.subplot(122)\n",
        "plt.plot(y_fit.T)\n",
        "plt.title(\" Predicted Source data\", fontsize=22)\n",
        "plt.xlabel('Time', fontsize=22)\n",
        "plt.ylabel('Source activity', fontsize=22)\n",
        "plt.yticks(fontsize=18, rotation=0)\n",
        "plt.xticks(fontsize=18, rotation=0)\n",
        "plt.tight_layout()\n",
        "plt.savefig(os.path.join(cwd+'/'+str(Res_dir),\"SBI_FittedBVEP_ode_obs2_observation_K_\"+str(K_true)+\".png\"), dpi=800)\n",
        "plt.savefig(os.path.join(cwd+'/'+str(Res_dir),\"SBI_FittedBVEP_ode_obs2_observation_K_\"+str(K_true)+\".svg\"), dpi=800)\n",
        "plt.show()"
      ]
    },
    {
      "cell_type": "code",
      "execution_count": null,
      "metadata": {
        "id": "g-Te8Xn56coW"
      },
      "outputs": [],
      "source": [
        "plt.figure(figsize=(14, 4))\n",
        "plt.subplot(121);\n",
        "plt.imshow(y_obs, aspect='auto', interpolation='bilinear',  origin='lower', cmap='Reds')\n",
        "plt.title(\"Simulated Source data\", fontsize=22)\n",
        "plt.xlabel('Time', fontsize=22)\n",
        "plt.ylabel('Source activity', fontsize=22)\n",
        "plt.yticks(fontsize=18, rotation=0)\n",
        "plt.xticks(fontsize=18, rotation=0)\n",
        "plt.colorbar();\n",
        "\n",
        "plt.subplot(122)\n",
        "plt.imshow(y_fit, aspect='auto', interpolation='bilinear',  origin='lower', cmap='Reds')\n",
        "plt.title(\" Predicted Source data\", fontsize=22)\n",
        "plt.xlabel('Time', fontsize=22)\n",
        "plt.ylabel('Source activity', fontsize=22)\n",
        "plt.yticks(fontsize=18, rotation=0)\n",
        "plt.xticks(fontsize=18, rotation=0)\n",
        "plt.colorbar();\n",
        "\n",
        "plt.tight_layout()\n",
        "plt.savefig(os.path.join(cwd+'/'+str(Res_dir),\"SBI_ImshowFittedBVEP_ode_obs2_observation_K_\"+str(K_true)+\".png\"), dpi=800)\n",
        "plt.savefig(os.path.join(cwd+'/'+str(Res_dir),\"SBI_ImshowFittedBVEP_ode_obs2_observation_K_\"+str(K_true)+\".svg\"), dpi=800)\n",
        "plt.show()"
      ]
    },
    {
      "cell_type": "code",
      "execution_count": null,
      "metadata": {
        "id": "9_4gHdnr6coW"
      },
      "outputs": [],
      "source": [
        "eta_true.shape, eta_posterior.shape"
      ]
    },
    {
      "cell_type": "code",
      "execution_count": null,
      "metadata": {
        "collapsed": true,
        "id": "w51HwBni6coW"
      },
      "outputs": [],
      "source": [
        "true_labels_nodes,est_labels_nodes =SME_labels(eta_true, eta_posterior.transpose(), eta_c, delta_eta)"
      ]
    },
    {
      "cell_type": "code",
      "execution_count": null,
      "metadata": {
        "id": "Wii8WaEW6coW"
      },
      "outputs": [],
      "source": [
        "Confusion_matrix_values= confusion_matrix(true_labels_nodes, est_labels_nodes, labels=[\"EZ\", \"PZ\", \"HZ\"])\n",
        "print('Confusion_matrix_values= \\n', Confusion_matrix_values)"
      ]
    },
    {
      "cell_type": "code",
      "execution_count": null,
      "metadata": {
        "id": "mcXvz1vs6coW"
      },
      "outputs": [],
      "source": [
        "plt.figure(figsize=(8, 6))\n",
        "plot_confusion_matrix(Confusion_matrix_values, [\"EZ\", \"PZ\", \"HZ\"])\n",
        "plt.savefig(os.path.join(cwd+'/'+str(Res_dir),\"SBI_BVEP_ode_obs2_ConfusionMatrix_K_\"+str(K_true)+\".png\"), dpi=800)\n",
        "plt.savefig(os.path.join(cwd+'/'+str(Res_dir),\"SBI_BVEP_ode_obs2_ConfusionMatrix_K_\"+str(K_true)+\".svg\"), dpi=800)\n",
        "plt.tight_layout()\n",
        "plt.show()"
      ]
    },
    {
      "cell_type": "code",
      "execution_count": null,
      "metadata": {
        "id": "bgtlC0wn6coW"
      },
      "outputs": [],
      "source": [
        "np.sum(np.std(eta_posterior, axis=0))"
      ]
    },
    {
      "cell_type": "code",
      "execution_count": null,
      "metadata": {
        "collapsed": true,
        "id": "ucwG373a6coW"
      },
      "outputs": [],
      "source": [
        "from report_metrics import LSE, Err, RMSE, LSE_obs, z_score, shrinkage"
      ]
    },
    {
      "cell_type": "code",
      "execution_count": null,
      "metadata": {
        "collapsed": true,
        "id": "IDqpMjrO6coW"
      },
      "outputs": [],
      "source": [
        "eta_est_mu=np.mean(eta_posterior, axis=0)\n",
        "eta_est_std=np.std(eta_posterior, axis=0)"
      ]
    },
    {
      "cell_type": "code",
      "execution_count": null,
      "metadata": {
        "collapsed": true,
        "id": "T6pfWkUq6coW"
      },
      "outputs": [],
      "source": [
        "b=-7\n",
        "a=-1\n",
        "prior_std =np.sqrt((1/12)*(b-a)**2)"
      ]
    },
    {
      "cell_type": "code",
      "execution_count": null,
      "metadata": {
        "collapsed": true,
        "id": "xJQYhCZ06coW"
      },
      "outputs": [],
      "source": [
        "def plot_zscore_shrinkage(nodes, eta_true, eta_est_mu, eta_est_std, prior_std):\n",
        "    z_score_eta=z_score(eta_true, eta_est_mu, eta_est_std)\n",
        "    colors= np.random.rand(z_score_eta.shape[0])\n",
        "    plt.scatter(shrinkage([prior_std]*nodes.shape[0], eta_est_std), z_score_eta ,s=120, c='blue')\n",
        "    plt.xlabel(\"Posterior shrinkages\", fontsize=24)\n",
        "    plt.ylabel(\"Posterior z-scores\", fontsize=24)\n",
        "    plt.xticks(fontsize=16)\n",
        "    plt.yticks(fontsize=16)"
      ]
    },
    {
      "cell_type": "code",
      "execution_count": null,
      "metadata": {
        "id": "vGbmYvhQ6coW"
      },
      "outputs": [],
      "source": [
        "plot_zscore_shrinkage(nodes, eta_true, eta_est_mu, eta_est_std, prior_std)\n",
        "plt.axis((-.1,1.1,-2,20))\n",
        "plt.tight_layout()\n",
        "plt.savefig(os.path.join(cwd+'/'+str(Res_dir),\"SBI_BVEP_ode_obs2_zscore_shrinkage_K_\"+str(K_true)+\".png\"), dpi=800)\n",
        "plt.savefig(os.path.join(cwd+'/'+str(Res_dir),\"SBI_BVEP_ode_obs2_zscore_shrinkage_K_\"+str(K_true)+\".svg\"), dpi=800)\n",
        "plt.show()"
      ]
    },
    {
      "cell_type": "code",
      "execution_count": null,
      "metadata": {
        "id": "f_LIYkED6coW"
      },
      "outputs": [],
      "source": [
        "Err(eta_true, eta_est_mu), RMSE(eta_true, eta_est_mu)"
      ]
    },
    {
      "cell_type": "code",
      "execution_count": null,
      "metadata": {
        "id": "Tup5ZMQM6coW"
      },
      "outputs": [],
      "source": [
        "Err(y_obs, y_fit), RMSE(y_obs, y_fit)"
      ]
    },
    {
      "cell_type": "code",
      "execution_count": null,
      "metadata": {
        "id": "XIGHn1Ln6coW"
      },
      "outputs": [],
      "source": [
        "shrinkage([prior_std]*nodes.shape[0], eta_est_std).shape"
      ]
    },
    {
      "cell_type": "code",
      "execution_count": null,
      "metadata": {
        "collapsed": true,
        "id": "R73muoOc6coW"
      },
      "outputs": [],
      "source": [
        "from sklearn import metrics\n",
        "from itertools import cycle\n",
        "from sklearn.metrics import roc_curve\n",
        "from sklearn.metrics import roc_auc_score\n",
        "from sklearn.metrics import precision_recall_curve\n",
        "from sklearn.preprocessing import label_binarize"
      ]
    },
    {
      "cell_type": "code",
      "execution_count": null,
      "metadata": {
        "collapsed": true,
        "id": "CYvZ2K6h6coX"
      },
      "outputs": [],
      "source": [
        "n_classes=3\n",
        "node_classes=['HZ', 'PZ', 'EZ']"
      ]
    },
    {
      "cell_type": "code",
      "execution_count": null,
      "metadata": {
        "collapsed": true,
        "id": "ET-ibayz6coX"
      },
      "outputs": [],
      "source": [
        "true_nodes=true_node_binary(true_labels_nodes)\n",
        "estimated_nodes=estimated_node_binary(est_labels_nodes)"
      ]
    },
    {
      "cell_type": "code",
      "execution_count": null,
      "metadata": {
        "collapsed": true,
        "id": "ffqbOyEC6coX"
      },
      "outputs": [],
      "source": [
        "y_true=label_binarize(true_nodes, classes=[0, 1, 2])\n",
        "y_pred=label_binarize(estimated_nodes, classes=[0, 1, 2])"
      ]
    },
    {
      "cell_type": "code",
      "execution_count": null,
      "metadata": {
        "id": "wwBbzw8F6coX"
      },
      "outputs": [],
      "source": [
        "y_true.shape, y_pred.shape"
      ]
    },
    {
      "cell_type": "code",
      "execution_count": null,
      "metadata": {
        "collapsed": true,
        "id": "kGyan-Z96coX"
      },
      "outputs": [],
      "source": [
        "fpr = dict()\n",
        "tpr = dict()\n",
        "roc_auc = dict()\n",
        "\n",
        "\n",
        "for i in range(n_classes):\n",
        "    fpr[i], tpr[i], _ = metrics.roc_curve(y_true[:, i], y_pred[:, i])\n",
        "    roc_auc[i] = metrics.auc(fpr[i], tpr[i])\n",
        "\n",
        "# Compute micro-average ROC curve and ROC area\n",
        "fpr[\"micro\"], tpr[\"micro\"], _ = metrics.roc_curve(y_true.ravel(), y_pred.ravel())\n",
        "roc_auc[\"micro\"] = metrics.auc(fpr[\"micro\"], tpr[\"micro\"])\n",
        "\n",
        "\n",
        "all_fpr = np.unique(np.concatenate([fpr[i] for i in range(n_classes)]))\n",
        "\n",
        "# Then interpolate all ROC curves at this points\n",
        "mean_tpr = np.zeros_like(all_fpr)\n",
        "for i in range(n_classes):\n",
        "    mean_tpr += interp(all_fpr, fpr[i], tpr[i])\n",
        "\n",
        "# Finally average it and compute AUC\n",
        "mean_tpr /= n_classes\n",
        "\n",
        "fpr[\"macro\"] = all_fpr\n",
        "tpr[\"macro\"] = mean_tpr\n",
        "roc_auc[\"macro\"] = metrics.auc(fpr[\"macro\"], tpr[\"macro\"])"
      ]
    },
    {
      "cell_type": "code",
      "execution_count": null,
      "metadata": {
        "id": "6MNxsFwk6coX"
      },
      "outputs": [],
      "source": [
        "# Plot all ROC curves\n",
        "plt.figure()\n",
        "plt.plot(fpr[\"micro\"], tpr[\"micro\"],\n",
        "         label='micro-average ROC curve (area = {0:0.2f})'\n",
        "               ''.format(roc_auc[\"micro\"]),\n",
        "         color='deeppink', linestyle=':', linewidth=4)\n",
        "\n",
        "plt.plot(fpr[\"macro\"], tpr[\"macro\"],\n",
        "         label='macro-average ROC curve (area = {0:0.2f})'\n",
        "               ''.format(roc_auc[\"macro\"]),\n",
        "         color='navy', linestyle=':', linewidth=4)\n",
        "\n",
        "colors = cycle(['aqua', 'darkorange', 'cornflowerblue'])\n",
        "for i, color in zip(range(n_classes), colors):\n",
        "    plt.plot(fpr[i], tpr[i], color=color, lw=lw,\n",
        "             label='ROC curve of class '+ str(node_classes[i])+' (area = {1:0.2f})'\n",
        "             ''.format(i, roc_auc[i]))\n",
        "\n",
        "plt.plot([0, 1], [0, 1], 'k--', lw=lw)\n",
        "plt.xlim([-.01, 1.0])\n",
        "plt.ylim([0.0, 1.05])\n",
        "plt.xlabel('False Positive Rate', fontsize=22)\n",
        "plt.ylabel('True Positive Rate', fontsize=22)\n",
        "plt.title('ROC for amortized inference of SEEG', fontsize=18)\n",
        "plt.legend(loc=\"lower right\")\n",
        "plt.xticks(fontsize=16)\n",
        "plt.yticks(fontsize=16)\n",
        "plt.tight_layout()\n",
        "plt.savefig(os.path.join(cwd+'/'+str(Res_dir),\"ROC_obs2_K_\"+str(K_true)+\".png\"), dpi=800)\n",
        "plt.savefig(os.path.join(cwd+'/'+str(Res_dir),\"ROC_obs2_K_\"+str(K_true)+\".png\"), dpi=800)\n",
        "plt.show()"
      ]
    },
    {
      "cell_type": "code",
      "execution_count": null,
      "metadata": {
        "id": "aEeT8YD36coX"
      },
      "outputs": [],
      "source": [
        "fpr"
      ]
    },
    {
      "cell_type": "code",
      "execution_count": null,
      "metadata": {
        "id": "gb8YGO936coX"
      },
      "outputs": [],
      "source": [
        "tpr"
      ]
    },
    {
      "cell_type": "code",
      "execution_count": null,
      "metadata": {
        "id": "A4tpUUED6coX"
      },
      "outputs": [],
      "source": [
        "roc_auc[\"micro\"], roc_auc[\"macro\"]"
      ]
    },
    {
      "cell_type": "markdown",
      "metadata": {
        "id": "2v1MMWTs6coX"
      },
      "source": [
        "### Another Data set"
      ]
    },
    {
      "cell_type": "code",
      "execution_count": null,
      "metadata": {
        "collapsed": true,
        "id": "XyOMaS1M6coX"
      },
      "outputs": [],
      "source": [
        "hz_val=-3.65\n",
        "pz_val=-2.4\n",
        "ez_val=-1.6\n",
        "\n",
        "ez_idx = np.array([6, 34, 18, 45, 67, 81],  dtype=np.int32)\n",
        "pz_wplng_idx = np.array([5,11], dtype=np.int32)\n",
        "pz_kplng_idx = np.array([27], dtype=np.int32)\n",
        "pz_idx = np.append(pz_kplng_idx, pz_wplng_idx)"
      ]
    },
    {
      "cell_type": "code",
      "execution_count": null,
      "metadata": {
        "collapsed": true,
        "id": "yXWQCtvs6coX"
      },
      "outputs": [],
      "source": [
        "eta_true = np.ones(nn)*hz_val\n",
        "eta_true[ez_idx] = ez_val\n",
        "eta_true[pz_idx] = pz_val"
      ]
    },
    {
      "cell_type": "code",
      "execution_count": null,
      "metadata": {
        "collapsed": true,
        "id": "5uFyUbNn6coX"
      },
      "outputs": [],
      "source": [
        "K_true=1."
      ]
    },
    {
      "cell_type": "code",
      "execution_count": null,
      "metadata": {
        "collapsed": true,
        "id": "KUaLRAH76coX"
      },
      "outputs": [],
      "source": [
        "x_init=-2.5\n",
        "z_init=3.5\n",
        "init_conditions = np.array([x_init, z_init])"
      ]
    },
    {
      "cell_type": "code",
      "execution_count": null,
      "metadata": {
        "id": "wX7Cxce46coX"
      },
      "outputs": [],
      "source": [
        "params_true = np.append(eta_true, K_true)\n",
        "params_true.shape"
      ]
    },
    {
      "cell_type": "code",
      "execution_count": null,
      "metadata": {
        "collapsed": true,
        "id": "N6bRm1pZ6coX"
      },
      "outputs": [],
      "source": [
        "obs_source =VEP2Dmodel(params_true, constants, init_conditions, dt, ts, SC)\n",
        "obs_source=obs_source.reshape(nn, int(obs_source.shape[0]/nn))"
      ]
    },
    {
      "cell_type": "code",
      "execution_count": null,
      "metadata": {
        "id": "31keoVcS6coX"
      },
      "outputs": [],
      "source": [
        "plt.figure(figsize=(10,16))\n",
        "for i in range(0, nn):\n",
        "    if i in ez_idx:\n",
        "          plt.plot(obs_source[i,:]+i, 'r', lw=3)\n",
        "    elif i in pz_idx:\n",
        "          plt.plot(obs_source[i,:]+i, 'y', lw=3)\n",
        "    else:\n",
        "          plt.plot(obs_source[i,:]+i, 'g')\n",
        "plt.yticks(np.r_[0:nn]-2, np.r_[0:nn],fontsize=10)\n",
        "plt.xticks(fontsize=16)\n",
        "plt.title(\"Source brain activity\",fontsize=18)\n",
        "plt.xlabel('Time',fontsize=22)\n",
        "plt.ylabel('Brain Regions#',fontsize=22)\n",
        "plt.savefig(os.path.join(cwd+'/'+str(Res_dir),\"SBI_BVEP_ode_obs3_source_K_\"+str(K_true)+\".png\"), dpi=800)\n",
        "plt.savefig(os.path.join(cwd+'/'+str(Res_dir),\"SBI_BVEP_ode_obs3_source_K_\"+str(K_true)+\".svg\"), dpi=800)\n",
        "plt.show()"
      ]
    },
    {
      "cell_type": "code",
      "execution_count": null,
      "metadata": {
        "collapsed": true,
        "id": "t-594khw6coX"
      },
      "outputs": [],
      "source": [
        "obs_summary_statistics=calculate_summary_statistics_features(obs_source.reshape(-1),  nn, nt, dt, ts, features=['seizures_onset'])"
      ]
    },
    {
      "cell_type": "code",
      "execution_count": null,
      "metadata": {
        "id": "f0hU4Bp86coX"
      },
      "outputs": [],
      "source": [
        "obs_source.shape, obs_summary_statistics.shape"
      ]
    },
    {
      "cell_type": "code",
      "execution_count": null,
      "metadata": {
        "id": "bAmRqvfc6coX"
      },
      "outputs": [],
      "source": [
        "y_obs=obs_source\n",
        "y_obs.shape"
      ]
    },
    {
      "cell_type": "code",
      "execution_count": null,
      "metadata": {
        "id": "f3azs4Gb6coX"
      },
      "outputs": [],
      "source": [
        "plt.figure(figsize=(10,6))\n",
        "plt.plot(obs_source.T)\n",
        "plt.title(\"Source activity signals\",fontsize=15)\n",
        "plt.xlabel('Time',fontsize=12)\n",
        "plt.ylabel('Regions#',fontsize=12)\n",
        "plt.savefig(os.path.join(cwd+'/'+str(Res_dir),\"SBI_BVEP_ode_obs3_seeg_K_\"+str(K_true)+\".png\"), dpi=800)\n",
        "plt.savefig(os.path.join(cwd+'/'+str(Res_dir),\"SBI_BVEP_ode_obs3_seeg_K_\"+str(K_true)+\".svg\"), dpi=800)"
      ]
    },
    {
      "cell_type": "markdown",
      "metadata": {
        "id": "pLMAZVEf6coX"
      },
      "source": [
        "### Posterior"
      ]
    },
    {
      "cell_type": "code",
      "execution_count": null,
      "metadata": {
        "collapsed": true,
        "id": "gRQHstCJ6coX"
      },
      "outputs": [],
      "source": [
        "nodes=np.r_[0:nn]"
      ]
    },
    {
      "cell_type": "code",
      "execution_count": null,
      "metadata": {
        "collapsed": true,
        "id": "Yn4jJyeA6coY"
      },
      "outputs": [],
      "source": [
        "num_samples=200"
      ]
    },
    {
      "cell_type": "code",
      "execution_count": null,
      "metadata": {
        "id": "jKFCRhVk6coY"
      },
      "outputs": [],
      "source": [
        "start_time = time.time()\n",
        "\n",
        "posterior_samples = posterior.sample((num_samples,), obs_summary_statistics).numpy()\n",
        "\n",
        "print (\"-\"*60)\n",
        "print(\"--- sampling took: %s seconds ---\" % (time.time() - start_time))"
      ]
    },
    {
      "cell_type": "code",
      "execution_count": null,
      "metadata": {
        "id": "n2CLMlYv6coY"
      },
      "outputs": [],
      "source": [
        "posterior_samples.shape, params_true.shape"
      ]
    },
    {
      "cell_type": "code",
      "execution_count": null,
      "metadata": {
        "collapsed": true,
        "id": "YnB-Qxie6coY"
      },
      "outputs": [],
      "source": [
        "np.save(os.path.join(cwd+'/'+str(Res_dir), 'BVEP_ode_sbi_sourcelevel_obs3_patient1_posteriorsamples.npy') , posterior_samples)"
      ]
    },
    {
      "cell_type": "code",
      "execution_count": null,
      "metadata": {
        "collapsed": true,
        "id": "2TYzb8vl6coY"
      },
      "outputs": [],
      "source": [
        "eta_posterior=posterior_samples[:,:-1]\n",
        "K_posterior=posterior_samples[:,-1]"
      ]
    },
    {
      "cell_type": "code",
      "execution_count": null,
      "metadata": {
        "id": "oNEoFZnl6coY"
      },
      "outputs": [],
      "source": [
        "K_posterior.mean(), K_posterior.std()"
      ]
    },
    {
      "cell_type": "code",
      "execution_count": null,
      "metadata": {
        "collapsed": true,
        "id": "juXGXOik6coY"
      },
      "outputs": [],
      "source": [
        "eta_c=-1.95\n",
        "delta_eta=1.0"
      ]
    },
    {
      "cell_type": "code",
      "execution_count": null,
      "metadata": {
        "id": "RauxNIXD6coY"
      },
      "outputs": [],
      "source": [
        "plt.figure(figsize=(15,4))\n",
        "SEM_violinplot(nn, eta_true, ez_idx, pz_idx, eta_posterior, eta_c, delta_eta )\n",
        "plt.savefig(os.path.join(cwd+'/'+str(Res_dir),\"SBI_BVEP_ode_obs3_InferredExcitability_K_\"+str(K_true)+\".png\"), dpi=800)\n",
        "plt.savefig(os.path.join(cwd+'/'+str(Res_dir),\"SBI_BVEP_ode_obs3_InferredExcitability_K_\"+str(K_true)+\".svg\"), dpi=800)\n",
        "plt.show()"
      ]
    },
    {
      "cell_type": "code",
      "execution_count": null,
      "metadata": {
        "id": "XREOTPbj6coY"
      },
      "outputs": [],
      "source": [
        "plt.figure(figsize=(4,4))\n",
        "parts= plt.violinplot(K_posterior, widths=0.7, showmeans=True, showextrema=True);\n",
        "plt.plot(1,params_true[-1] ,'o', color='k', alpha=0.9, markersize=8)\n",
        "plt.ylabel(' Posterior ' +r'${(K)}$', fontsize=24);\n",
        "plt.xlabel(r'${K}$', fontsize=24);\n",
        "plt.yticks(fontsize=16)\n",
        "plt.xticks([])\n",
        "plt.tight_layout()\n",
        "plt.savefig(os.path.join(cwd+'/'+str(Res_dir),\"SBI_BVEP_ode_obs3_InferredCoupling_K_\"+str(K_true)+\".png\"), dpi=800)\n",
        "plt.savefig(os.path.join(cwd+'/'+str(Res_dir),\"SBI_BVEP_ode_obs3_InferredCoupling_K_\"+str(K_true)+\".svg\"), dpi=800)\n",
        "plt.show()"
      ]
    },
    {
      "cell_type": "code",
      "execution_count": null,
      "metadata": {
        "collapsed": true,
        "id": "oDxQSk1s6coY"
      },
      "outputs": [],
      "source": [
        "estimated_posterior=np.percentile(posterior_samples, [50], axis=0).reshape(-1)"
      ]
    },
    {
      "cell_type": "code",
      "execution_count": null,
      "metadata": {
        "collapsed": true,
        "id": "8fVzBjN36coY"
      },
      "outputs": [],
      "source": [
        "y_fit_source =VEP2Dmodel(estimated_posterior, constants, init_conditions, dt, ts, SC)\n",
        "\n",
        "yfit_source=y_fit_source.reshape(nn, int(y_fit_source.shape[0]/nn))"
      ]
    },
    {
      "cell_type": "code",
      "execution_count": null,
      "metadata": {
        "id": "twkSVzt-6coY"
      },
      "outputs": [],
      "source": [
        "y_fit=yfit_source\n",
        "y_fit.shape"
      ]
    },
    {
      "cell_type": "code",
      "execution_count": null,
      "metadata": {
        "collapsed": true,
        "id": "yUlvyNsC6coY"
      },
      "outputs": [],
      "source": [
        "np.save(os.path.join(cwd+'/'+str(Res_dir), 'BVEP_ode_sbi_sourcelevel_obs3_patient1_y_obs.npy') , y_obs)\n",
        "np.save(os.path.join(cwd+'/'+str(Res_dir), 'BVEP_ode_sbi_sourcelevel_obs3_patient1_y_obs.npy') , y_fit)"
      ]
    },
    {
      "cell_type": "code",
      "execution_count": null,
      "metadata": {
        "id": "rsZli5LJ6coY"
      },
      "outputs": [],
      "source": [
        "Rois=np.array([1, 5, 6, 11,18,  27, 34, 45, 50, 67, 81])\n",
        "\n",
        "plt.figure(figsize=(10,4))\n",
        "for roi in Rois:\n",
        "    plt.plot(y_obs.T[:,roi], '.')\n",
        "    plt.plot(y_fit.T[:,roi] )\n",
        "plt.title(\"Observation vs prediction\",fontsize=15)\n",
        "plt.xlabel('Time', fontsize=22)\n",
        "plt.ylabel('Source signals', fontsize=22)\n",
        "plt.yticks(fontsize=18, rotation=0)\n",
        "plt.xticks(fontsize=18, rotation=0)\n",
        "plt.show()"
      ]
    },
    {
      "cell_type": "code",
      "execution_count": null,
      "metadata": {
        "id": "wYyOLp-w6coY"
      },
      "outputs": [],
      "source": [
        "plt.figure(figsize=(12,4))\n",
        "\n",
        "plt.subplot(121);\n",
        "plt.plot(y_obs.T)\n",
        "plt.title(\"Simulated Source data\", fontsize=22)\n",
        "plt.xlabel('Time', fontsize=22)\n",
        "plt.ylabel('Source activity', fontsize=22)\n",
        "plt.yticks(fontsize=18, rotation=0)\n",
        "plt.xticks(fontsize=18, rotation=0)\n",
        "\n",
        "plt.subplot(122)\n",
        "plt.plot(y_fit.T)\n",
        "plt.title(\" Predicted Source data\", fontsize=22)\n",
        "plt.xlabel('Time', fontsize=22)\n",
        "plt.ylabel('Source activity', fontsize=22)\n",
        "plt.yticks(fontsize=18, rotation=0)\n",
        "plt.xticks(fontsize=18, rotation=0)\n",
        "plt.tight_layout()\n",
        "plt.savefig(os.path.join(cwd+'/'+str(Res_dir),\"SBI_FittedBVEP_ode_obs3_observation_K_\"+str(K_true)+\".png\"), dpi=800)\n",
        "plt.savefig(os.path.join(cwd+'/'+str(Res_dir),\"SBI_FittedBVEP_ode_obs3_observation_K_\"+str(K_true)+\".svg\"), dpi=800)\n",
        "plt.show()"
      ]
    },
    {
      "cell_type": "code",
      "execution_count": null,
      "metadata": {
        "id": "GEkvCzRe6coY"
      },
      "outputs": [],
      "source": [
        "plt.figure(figsize=(14, 4))\n",
        "plt.subplot(121);\n",
        "plt.imshow(y_obs, aspect='auto', interpolation='bilinear',  origin='lower', cmap='Reds')\n",
        "plt.title(\"Simulated Source data\", fontsize=22)\n",
        "plt.xlabel('Time', fontsize=22)\n",
        "plt.ylabel('Source activity', fontsize=22)\n",
        "plt.yticks(fontsize=18, rotation=0)\n",
        "plt.xticks(fontsize=18, rotation=0)\n",
        "plt.colorbar();\n",
        "\n",
        "plt.subplot(122)\n",
        "plt.imshow(y_fit, aspect='auto', interpolation='bilinear',  origin='lower', cmap='Reds')\n",
        "plt.title(\" Predicted Source data\", fontsize=22)\n",
        "plt.xlabel('Time', fontsize=22)\n",
        "plt.ylabel('Source activity', fontsize=22)\n",
        "plt.yticks(fontsize=18, rotation=0)\n",
        "plt.xticks(fontsize=18, rotation=0)\n",
        "plt.colorbar();\n",
        "\n",
        "plt.tight_layout()\n",
        "plt.savefig(os.path.join(cwd+'/'+str(Res_dir),\"SBI_ImshowFittedBVEP_ode_obs3_observation_K_\"+str(K_true)+\".png\"), dpi=800)\n",
        "plt.savefig(os.path.join(cwd+'/'+str(Res_dir),\"SBI_ImshowFittedBVEP_ode_obs3_observation_K_\"+str(K_true)+\".svg\"), dpi=800)\n",
        "plt.show()"
      ]
    },
    {
      "cell_type": "code",
      "execution_count": null,
      "metadata": {
        "id": "_tGlju4p6coY"
      },
      "outputs": [],
      "source": [
        "eta_true.shape, eta_posterior.shape"
      ]
    },
    {
      "cell_type": "code",
      "execution_count": null,
      "metadata": {
        "collapsed": true,
        "id": "d9cTbkK-6coY"
      },
      "outputs": [],
      "source": [
        "true_labels_nodes,est_labels_nodes =SME_labels(eta_true, eta_posterior.transpose(), eta_c, delta_eta)"
      ]
    },
    {
      "cell_type": "code",
      "execution_count": null,
      "metadata": {
        "id": "NCigQz436coY"
      },
      "outputs": [],
      "source": [
        "Confusion_matrix_values= confusion_matrix(true_labels_nodes, est_labels_nodes, labels=[\"EZ\", \"PZ\", \"HZ\"])\n",
        "print('Confusion_matrix_values= \\n', Confusion_matrix_values)"
      ]
    },
    {
      "cell_type": "code",
      "execution_count": null,
      "metadata": {
        "id": "YJ5p6e766coY"
      },
      "outputs": [],
      "source": [
        "plt.figure(figsize=(8, 6))\n",
        "plot_confusion_matrix(Confusion_matrix_values, [\"EZ\", \"PZ\", \"HZ\"])\n",
        "plt.savefig(os.path.join(cwd+'/'+str(Res_dir),\"SBI_BVEP_ode_obs3_ConfusionMatrix_K_\"+str(K_true)+\".png\"), dpi=800)\n",
        "plt.savefig(os.path.join(cwd+'/'+str(Res_dir),\"SBI_BVEP_ode_obs3_ConfusionMatrix_K_\"+str(K_true)+\".svg\"), dpi=800)\n",
        "plt.tight_layout()\n",
        "plt.show()"
      ]
    },
    {
      "cell_type": "code",
      "execution_count": null,
      "metadata": {
        "id": "OZb5J8656coZ"
      },
      "outputs": [],
      "source": [
        "np.sum(np.std(eta_posterior, axis=0))"
      ]
    },
    {
      "cell_type": "code",
      "execution_count": null,
      "metadata": {
        "collapsed": true,
        "id": "xnUvsxdK6coZ"
      },
      "outputs": [],
      "source": [
        "from report_metrics import LSE, Err, RMSE, LSE_obs, z_score, shrinkage"
      ]
    },
    {
      "cell_type": "code",
      "execution_count": null,
      "metadata": {
        "collapsed": true,
        "id": "E1wWo7E26coZ"
      },
      "outputs": [],
      "source": [
        "eta_est_mu=np.mean(eta_posterior, axis=0)\n",
        "eta_est_std=np.std(eta_posterior, axis=0)"
      ]
    },
    {
      "cell_type": "code",
      "execution_count": null,
      "metadata": {
        "collapsed": true,
        "id": "XOtunAOE6coZ"
      },
      "outputs": [],
      "source": [
        "b=-7\n",
        "a=-1\n",
        "prior_std =np.sqrt((1/12)*(b-a)**2)"
      ]
    },
    {
      "cell_type": "code",
      "execution_count": null,
      "metadata": {
        "collapsed": true,
        "id": "V9H_RI6C6coZ"
      },
      "outputs": [],
      "source": [
        "def plot_zscore_shrinkage(nodes, eta_true, eta_est_mu, eta_est_std, prior_std):\n",
        "    z_score_eta=z_score(eta_true, eta_est_mu, eta_est_std)\n",
        "    colors= np.random.rand(z_score_eta.shape[0])\n",
        "    plt.scatter(shrinkage([prior_std]*nodes.shape[0], eta_est_std), z_score_eta ,s=120, c='blue')\n",
        "    plt.xlabel(\"Posterior shrinkages\", fontsize=24)\n",
        "    plt.ylabel(\"Posterior z-scores\", fontsize=24)\n",
        "    plt.xticks(fontsize=16)\n",
        "    plt.yticks(fontsize=16)"
      ]
    },
    {
      "cell_type": "code",
      "execution_count": null,
      "metadata": {
        "id": "5wVHdKMc6coZ"
      },
      "outputs": [],
      "source": [
        "plot_zscore_shrinkage(nodes, eta_true, eta_est_mu, eta_est_std, prior_std)\n",
        "plt.axis((-.1,1.1,-2,20))\n",
        "plt.tight_layout()\n",
        "plt.savefig(os.path.join(cwd+'/'+str(Res_dir),\"SBI_BVEP_ode_obs3_zscore_shrinkage_K_\"+str(K_true)+\".png\"), dpi=800)\n",
        "plt.savefig(os.path.join(cwd+'/'+str(Res_dir),\"SBI_BVEP_ode_obs3_zscore_shrinkage_K_\"+str(K_true)+\".svg\"), dpi=800)\n",
        "plt.show()"
      ]
    },
    {
      "cell_type": "code",
      "execution_count": null,
      "metadata": {
        "id": "eb4m8TMe6coZ"
      },
      "outputs": [],
      "source": [
        "Err(eta_true, eta_est_mu), RMSE(eta_true, eta_est_mu)"
      ]
    },
    {
      "cell_type": "code",
      "execution_count": null,
      "metadata": {
        "id": "w4Z5-Unr6coZ"
      },
      "outputs": [],
      "source": [
        "Err(y_obs, y_fit), RMSE(y_obs, y_fit)"
      ]
    },
    {
      "cell_type": "code",
      "execution_count": null,
      "metadata": {
        "id": "3KgZ696X6coZ"
      },
      "outputs": [],
      "source": [
        "shrinkage([prior_std]*nodes.shape[0], eta_est_std).shape"
      ]
    },
    {
      "cell_type": "code",
      "execution_count": null,
      "metadata": {
        "collapsed": true,
        "id": "esaqfMIO6coZ"
      },
      "outputs": [],
      "source": [
        "n_classes=3\n",
        "node_classes=['HZ', 'PZ', 'EZ']"
      ]
    },
    {
      "cell_type": "code",
      "execution_count": null,
      "metadata": {
        "collapsed": true,
        "id": "Xbso_dWC6coZ"
      },
      "outputs": [],
      "source": [
        "from sklearn import metrics\n",
        "from itertools import cycle\n",
        "from sklearn.metrics import roc_curve\n",
        "from sklearn.metrics import roc_auc_score\n",
        "from sklearn.metrics import precision_recall_curve\n",
        "from sklearn.preprocessing import label_binarize"
      ]
    },
    {
      "cell_type": "code",
      "execution_count": null,
      "metadata": {
        "collapsed": true,
        "id": "OBqozTGd6coZ"
      },
      "outputs": [],
      "source": [
        "true_nodes=true_node_binary(true_labels_nodes)\n",
        "estimated_nodes=estimated_node_binary(est_labels_nodes)"
      ]
    },
    {
      "cell_type": "code",
      "execution_count": null,
      "metadata": {
        "collapsed": true,
        "id": "S5ufTQUZ6coZ"
      },
      "outputs": [],
      "source": [
        "y_true=label_binarize(true_nodes, classes=[0, 1, 2])\n",
        "y_pred=label_binarize(estimated_nodes, classes=[0, 1, 2])"
      ]
    },
    {
      "cell_type": "code",
      "execution_count": null,
      "metadata": {
        "id": "t69E5aZf6coZ"
      },
      "outputs": [],
      "source": [
        "y_true.shape, y_pred.shape"
      ]
    },
    {
      "cell_type": "code",
      "execution_count": null,
      "metadata": {
        "collapsed": true,
        "id": "Z5--Hw8D6coZ"
      },
      "outputs": [],
      "source": [
        "fpr = dict()\n",
        "tpr = dict()\n",
        "roc_auc = dict()\n",
        "\n",
        "\n",
        "for i in range(n_classes):\n",
        "    fpr[i], tpr[i], _ = metrics.roc_curve(y_true[:, i], y_pred[:, i])\n",
        "    roc_auc[i] = metrics.auc(fpr[i], tpr[i])\n",
        "\n",
        "# Compute micro-average ROC curve and ROC area\n",
        "fpr[\"micro\"], tpr[\"micro\"], _ = metrics.roc_curve(y_true.ravel(), y_pred.ravel())\n",
        "roc_auc[\"micro\"] = metrics.auc(fpr[\"micro\"], tpr[\"micro\"])\n",
        "\n",
        "\n",
        "all_fpr = np.unique(np.concatenate([fpr[i] for i in range(n_classes)]))\n",
        "\n",
        "# Then interpolate all ROC curves at this points\n",
        "mean_tpr = np.zeros_like(all_fpr)\n",
        "for i in range(n_classes):\n",
        "    mean_tpr += interp(all_fpr, fpr[i], tpr[i])\n",
        "\n",
        "# Finally average it and compute AUC\n",
        "mean_tpr /= n_classes\n",
        "\n",
        "fpr[\"macro\"] = all_fpr\n",
        "tpr[\"macro\"] = mean_tpr\n",
        "roc_auc[\"macro\"] = metrics.auc(fpr[\"macro\"], tpr[\"macro\"])"
      ]
    },
    {
      "cell_type": "code",
      "execution_count": null,
      "metadata": {
        "id": "aZRv5vSQ6coZ"
      },
      "outputs": [],
      "source": [
        "# Plot all ROC curves\n",
        "plt.figure()\n",
        "plt.plot(fpr[\"micro\"], tpr[\"micro\"],\n",
        "         label='micro-average ROC curve (area = {0:0.2f})'\n",
        "               ''.format(roc_auc[\"micro\"]),\n",
        "         color='deeppink', linestyle=':', linewidth=4)\n",
        "\n",
        "plt.plot(fpr[\"macro\"], tpr[\"macro\"],\n",
        "         label='macro-average ROC curve (area = {0:0.2f})'\n",
        "               ''.format(roc_auc[\"macro\"]),\n",
        "         color='navy', linestyle=':', linewidth=4)\n",
        "\n",
        "colors = cycle(['aqua', 'darkorange', 'cornflowerblue'])\n",
        "for i, color in zip(range(n_classes), colors):\n",
        "    plt.plot(fpr[i], tpr[i], color=color, lw=lw,\n",
        "             label='ROC curve of class '+ str(node_classes[i])+' (area = {1:0.2f})'\n",
        "             ''.format(i, roc_auc[i]))\n",
        "\n",
        "plt.plot([0, 1], [0, 1], 'k--', lw=lw)\n",
        "plt.xlim([-.01, 1.0])\n",
        "plt.ylim([0.0, 1.05])\n",
        "plt.xlabel('False Positive Rate', fontsize=22)\n",
        "plt.ylabel('True Positive Rate', fontsize=22)\n",
        "plt.title('ROC for amortized inference of SEEG', fontsize=18)\n",
        "plt.legend(loc=\"lower right\")\n",
        "plt.xticks(fontsize=16)\n",
        "plt.yticks(fontsize=16)\n",
        "plt.tight_layout()\n",
        "plt.savefig(os.path.join(cwd+'/'+str(Res_dir),\"ROC_obs3_K_\"+str(K_true)+\".png\"), dpi=800)\n",
        "plt.savefig(os.path.join(cwd+'/'+str(Res_dir),\"ROC_obs3_K_\"+str(K_true)+\".png\"), dpi=800)\n",
        "plt.show()"
      ]
    },
    {
      "cell_type": "code",
      "execution_count": null,
      "metadata": {
        "id": "XChof7e-6coZ"
      },
      "outputs": [],
      "source": [
        "fpr"
      ]
    },
    {
      "cell_type": "code",
      "execution_count": null,
      "metadata": {
        "id": "tcmsUOnb6coZ"
      },
      "outputs": [],
      "source": [
        "tpr"
      ]
    },
    {
      "cell_type": "code",
      "execution_count": null,
      "metadata": {
        "id": "YkH_c41L6coZ"
      },
      "outputs": [],
      "source": [
        "roc_auc[\"micro\"], roc_auc[\"macro\"]"
      ]
    }
  ],
  "metadata": {
    "kernelspec": {
      "display_name": "Python 3",
      "name": "python3"
    },
    "language_info": {
      "name": "python"
    },
    "colab": {
      "provenance": [],
      "include_colab_link": true
    }
  },
  "nbformat": 4,
  "nbformat_minor": 0
}